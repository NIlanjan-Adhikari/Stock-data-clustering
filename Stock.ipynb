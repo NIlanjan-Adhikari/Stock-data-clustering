{
  "nbformat": 4,
  "nbformat_minor": 0,
  "metadata": {
    "kernelspec": {
      "display_name": "Python 3",
      "language": "python",
      "name": "python3"
    },
    "language_info": {
      "codemirror_mode": {
        "name": "ipython",
        "version": 3
      },
      "file_extension": ".py",
      "mimetype": "text/x-python",
      "name": "python",
      "nbconvert_exporter": "python",
      "pygments_lexer": "ipython3",
      "version": "3.7.7"
    },
    "colab": {
      "name": "Stock.ipynb",
      "provenance": []
    }
  },
  "cells": [
    {
      "cell_type": "code",
      "metadata": {
        "id": "Ihji1e6F4Kn_",
        "outputId": "b1b698ab-793c-4bb2-d602-f9986452054f",
        "colab": {
          "base_uri": "https://localhost:8080/",
          "height": 248
        }
      },
      "source": [
        "pip install Quandl"
      ],
      "execution_count": 186,
      "outputs": [
        {
          "output_type": "stream",
          "text": [
            "Requirement already satisfied: Quandl in /usr/local/lib/python3.6/dist-packages (3.5.3)\n",
            "Requirement already satisfied: requests>=2.7.0 in /usr/local/lib/python3.6/dist-packages (from Quandl) (2.23.0)\n",
            "Requirement already satisfied: inflection>=0.3.1 in /usr/local/lib/python3.6/dist-packages (from Quandl) (0.5.1)\n",
            "Requirement already satisfied: pandas>=0.14 in /usr/local/lib/python3.6/dist-packages (from Quandl) (1.1.2)\n",
            "Requirement already satisfied: python-dateutil in /usr/local/lib/python3.6/dist-packages (from Quandl) (2.8.1)\n",
            "Requirement already satisfied: more-itertools in /usr/local/lib/python3.6/dist-packages (from Quandl) (8.5.0)\n",
            "Requirement already satisfied: numpy>=1.8 in /usr/local/lib/python3.6/dist-packages (from Quandl) (1.18.5)\n",
            "Requirement already satisfied: six in /usr/local/lib/python3.6/dist-packages (from Quandl) (1.15.0)\n",
            "Requirement already satisfied: certifi>=2017.4.17 in /usr/local/lib/python3.6/dist-packages (from requests>=2.7.0->Quandl) (2020.6.20)\n",
            "Requirement already satisfied: idna<3,>=2.5 in /usr/local/lib/python3.6/dist-packages (from requests>=2.7.0->Quandl) (2.10)\n",
            "Requirement already satisfied: chardet<4,>=3.0.2 in /usr/local/lib/python3.6/dist-packages (from requests>=2.7.0->Quandl) (3.0.4)\n",
            "Requirement already satisfied: urllib3!=1.25.0,!=1.25.1,<1.26,>=1.21.1 in /usr/local/lib/python3.6/dist-packages (from requests>=2.7.0->Quandl) (1.24.3)\n",
            "Requirement already satisfied: pytz>=2017.2 in /usr/local/lib/python3.6/dist-packages (from pandas>=0.14->Quandl) (2018.9)\n"
          ],
          "name": "stdout"
        }
      ]
    },
    {
      "cell_type": "code",
      "metadata": {
        "id": "dJaxH-KrwuD4"
      },
      "source": [
        "from matplotlib import pyplot as plt\n",
        "import pandas as pd\n",
        "import datetime\n",
        "import numpy as np\n",
        "import quandl as qd"
      ],
      "execution_count": 187,
      "outputs": []
    },
    {
      "cell_type": "code",
      "metadata": {
        "id": "ZDlk79kE5Kxa"
      },
      "source": [
        "qd.ApiConfig.api_key = '*******'#obtained from---'https://www.quandl.com/tools/api'"
      ],
      "execution_count": 188,
      "outputs": []
    },
    {
      "cell_type": "code",
      "metadata": {
        "id": "-nOfmZhCxRl_"
      },
      "source": [
        "ticker = pd.read_csv('/content/sample_data/XNSE_tickers.csv')#List of ticker and company from quandl"
      ],
      "execution_count": 189,
      "outputs": []
    },
    {
      "cell_type": "code",
      "metadata": {
        "id": "CQi5qetZygec",
        "outputId": "c8634576-8976-424b-bd5d-35896f18f01b",
        "colab": {
          "base_uri": "https://localhost:8080/",
          "height": 399
        }
      },
      "source": [
        "ticker"
      ],
      "execution_count": 190,
      "outputs": [
        {
          "output_type": "execute_result",
          "data": {
            "text/html": [
              "<div>\n",
              "<style scoped>\n",
              "    .dataframe tbody tr th:only-of-type {\n",
              "        vertical-align: middle;\n",
              "    }\n",
              "\n",
              "    .dataframe tbody tr th {\n",
              "        vertical-align: top;\n",
              "    }\n",
              "\n",
              "    .dataframe thead th {\n",
              "        text-align: right;\n",
              "    }\n",
              "</style>\n",
              "<table border=\"1\" class=\"dataframe\">\n",
              "  <thead>\n",
              "    <tr style=\"text-align: right;\">\n",
              "      <th></th>\n",
              "      <th>ticker</th>\n",
              "      <th>issuer_name</th>\n",
              "    </tr>\n",
              "  </thead>\n",
              "  <tbody>\n",
              "    <tr>\n",
              "      <th>0</th>\n",
              "      <td>20MICRONS</td>\n",
              "      <td>20 Microns Ltd (EQ20MICRONS)</td>\n",
              "    </tr>\n",
              "    <tr>\n",
              "      <th>1</th>\n",
              "      <td>21STCENMGM</td>\n",
              "      <td>Twentyfirst Century Management Services Ltd. (...</td>\n",
              "    </tr>\n",
              "    <tr>\n",
              "      <th>2</th>\n",
              "      <td>3IINFOTECH</td>\n",
              "      <td>3i Infotech Ltd. (EQ3IINFOTECH)</td>\n",
              "    </tr>\n",
              "    <tr>\n",
              "      <th>3</th>\n",
              "      <td>3MINDIA</td>\n",
              "      <td>3M India Ltd. (EQ3MINDIA)</td>\n",
              "    </tr>\n",
              "    <tr>\n",
              "      <th>4</th>\n",
              "      <td>3PLAND</td>\n",
              "      <td>3P Land Holdings Ltd. (EQ3PLAND)</td>\n",
              "    </tr>\n",
              "    <tr>\n",
              "      <th>...</th>\n",
              "      <td>...</td>\n",
              "      <td>...</td>\n",
              "    </tr>\n",
              "    <tr>\n",
              "      <th>3821</th>\n",
              "      <td>ZOTA</td>\n",
              "      <td>Zota Health Care Ltd (EQZOTA)</td>\n",
              "    </tr>\n",
              "    <tr>\n",
              "      <th>3822</th>\n",
              "      <td>ZUARI</td>\n",
              "      <td>Zuari Agro Chemicals Ltd (EQZUARI)</td>\n",
              "    </tr>\n",
              "    <tr>\n",
              "      <th>3823</th>\n",
              "      <td>ZUARIGLOB</td>\n",
              "      <td>Zuari Global Ltd (EQZUARIGLOB)</td>\n",
              "    </tr>\n",
              "    <tr>\n",
              "      <th>3824</th>\n",
              "      <td>ZYDUSWELL</td>\n",
              "      <td>Zydus Wellness Ltd (EQZYDUSWELL)</td>\n",
              "    </tr>\n",
              "    <tr>\n",
              "      <th>3825</th>\n",
              "      <td>ZYLOG</td>\n",
              "      <td>Zylog Systems Ltd. (EQZYLOG)</td>\n",
              "    </tr>\n",
              "  </tbody>\n",
              "</table>\n",
              "<p>3826 rows × 2 columns</p>\n",
              "</div>"
            ],
            "text/plain": [
              "          ticker                                        issuer_name\n",
              "0      20MICRONS                       20 Microns Ltd (EQ20MICRONS)\n",
              "1     21STCENMGM  Twentyfirst Century Management Services Ltd. (...\n",
              "2     3IINFOTECH                    3i Infotech Ltd. (EQ3IINFOTECH)\n",
              "3        3MINDIA                          3M India Ltd. (EQ3MINDIA)\n",
              "4         3PLAND                   3P Land Holdings Ltd. (EQ3PLAND)\n",
              "...          ...                                                ...\n",
              "3821        ZOTA                      Zota Health Care Ltd (EQZOTA)\n",
              "3822       ZUARI                 Zuari Agro Chemicals Ltd (EQZUARI)\n",
              "3823   ZUARIGLOB                     Zuari Global Ltd (EQZUARIGLOB)\n",
              "3824   ZYDUSWELL                   Zydus Wellness Ltd (EQZYDUSWELL)\n",
              "3825       ZYLOG                       Zylog Systems Ltd. (EQZYLOG)\n",
              "\n",
              "[3826 rows x 2 columns]"
            ]
          },
          "metadata": {
            "tags": []
          },
          "execution_count": 190
        }
      ]
    },
    {
      "cell_type": "code",
      "metadata": {
        "id": "omIOqTjj0Ugu"
      },
      "source": [
        "ticker['issuer_name'] = ticker['issuer_name'].apply(lambda x : x.split('(')[0])"
      ],
      "execution_count": 191,
      "outputs": []
    },
    {
      "cell_type": "code",
      "metadata": {
        "id": "czmiFKar3Ftl"
      },
      "source": [
        "ticker['stock_name'] = \"NSE/\"+ ticker['ticker']\n",
        "stock_list = ticker['stock_name'].tolist()\n",
        "stock_list = list(set(stock_list))"
      ],
      "execution_count": 192,
      "outputs": []
    },
    {
      "cell_type": "code",
      "metadata": {
        "id": "FKEfq9hryMja"
      },
      "source": [
        "companies_dict = dict()\n",
        "for i in range(31):\n",
        "  companies_dict[ticker.iloc[i,1]] = ticker.iloc[i,2]"
      ],
      "execution_count": 193,
      "outputs": []
    },
    {
      "cell_type": "code",
      "metadata": {
        "id": "NJ4eZ5-wxblQ",
        "outputId": "0f0ec428-6c15-4e7a-dbb7-6623ddfb5e4d",
        "colab": {
          "base_uri": "https://localhost:8080/",
          "height": 532
        }
      },
      "source": [
        "companies_dict "
      ],
      "execution_count": 194,
      "outputs": [
        {
          "output_type": "execute_result",
          "data": {
            "text/plain": [
              "{'20 Microns Ltd ': 'NSE/20MICRONS',\n",
              " '3M India Ltd. ': 'NSE/3MINDIA',\n",
              " '3P Land Holdings Ltd. ': 'NSE/3PLAND',\n",
              " '3i Infotech Ltd. ': 'NSE/3IINFOTECH',\n",
              " '5paisa Capital Ltd. ': 'NSE/5PAISA',\n",
              " '63 Moons Technologies Ltd. ': 'NSE/63MOONS',\n",
              " '8K Miles Software Services Ltd ': 'NSE/8KMILES',\n",
              " 'A2Z Infra Engineering Ltd. ': 'NSE/A2ZINFRA',\n",
              " 'ABB India Ltd ': 'NSE/ABB',\n",
              " 'ABG Shipyard Ltd. ': 'NSE/ABGSHIP',\n",
              " 'ABM International Ltd. ': 'NSE/ABMINTLTD',\n",
              " 'ACC Ltd ': 'NSE/ACC',\n",
              " 'Aakash Exploration Services Ltd. ': 'NSE/AAKASH',\n",
              " 'Aarti Drugs Ltd. ': 'NSE/AARTIDRUGS',\n",
              " 'Aarti Industries Ltd. ': 'NSE/AARTIIND',\n",
              " 'Aarti Surfactants Ltd. ': 'NSE/AARTISURF',\n",
              " 'Aarvee Denims & Exports Ltd ': 'NSE/AARVEEDEN',\n",
              " 'Aarvi Encon Ltd. ': 'NSE/AARVI',\n",
              " 'Aavas Financiers Ltd ': 'NSE/AAVAS',\n",
              " 'Aban Offshore Ltd. ': 'NSE/ABAN',\n",
              " 'Abbott India Ltd. ': 'NSE/ABBOTINDIA',\n",
              " 'Abhishek Corporation Ltd ': 'NSE/ABHISHEK',\n",
              " 'Accelya Solutions India Ltd. ': 'NSE/ACCELYA',\n",
              " 'Aditya Birla Capital Ltd. ': 'NSE/ABCAPITAL',\n",
              " 'Aditya Birla Chemicals ': 'NSE/ABCIL',\n",
              " 'Aditya Birla Fashion & Retail Ltd. ': 'NSE/ABFRL_RE',\n",
              " 'Aditya Birla Nuvo Ltd. ': 'NSE/ABIRLANUVO',\n",
              " 'Aditya Birla Sun Life AMC Ltd. ': 'NSE/ABSLNN50ET',\n",
              " 'Twentyfirst Century Management Services Ltd. ': 'NSE/21STCENMGM'}"
            ]
          },
          "metadata": {
            "tags": []
          },
          "execution_count": 194
        }
      ]
    },
    {
      "cell_type": "code",
      "metadata": {
        "id": "z3PSq3IywuEC"
      },
      "source": [
        "companies = sorted(companies_dict.items(), key=lambda x: x[1])"
      ],
      "execution_count": 195,
      "outputs": []
    },
    {
      "cell_type": "code",
      "metadata": {
        "id": "M6k1wmbBwuEE",
        "outputId": "50979bbb-d71c-4cdb-a4ab-2539b18c5d4c",
        "colab": {
          "base_uri": "https://localhost:8080/",
          "height": 532
        }
      },
      "source": [
        "companies"
      ],
      "execution_count": 196,
      "outputs": [
        {
          "output_type": "execute_result",
          "data": {
            "text/plain": [
              "[('20 Microns Ltd ', 'NSE/20MICRONS'),\n",
              " ('Twentyfirst Century Management Services Ltd. ', 'NSE/21STCENMGM'),\n",
              " ('3i Infotech Ltd. ', 'NSE/3IINFOTECH'),\n",
              " ('3M India Ltd. ', 'NSE/3MINDIA'),\n",
              " ('3P Land Holdings Ltd. ', 'NSE/3PLAND'),\n",
              " ('5paisa Capital Ltd. ', 'NSE/5PAISA'),\n",
              " ('63 Moons Technologies Ltd. ', 'NSE/63MOONS'),\n",
              " ('8K Miles Software Services Ltd ', 'NSE/8KMILES'),\n",
              " ('A2Z Infra Engineering Ltd. ', 'NSE/A2ZINFRA'),\n",
              " ('Aakash Exploration Services Ltd. ', 'NSE/AAKASH'),\n",
              " ('Aarti Drugs Ltd. ', 'NSE/AARTIDRUGS'),\n",
              " ('Aarti Industries Ltd. ', 'NSE/AARTIIND'),\n",
              " ('Aarti Surfactants Ltd. ', 'NSE/AARTISURF'),\n",
              " ('Aarvee Denims & Exports Ltd ', 'NSE/AARVEEDEN'),\n",
              " ('Aarvi Encon Ltd. ', 'NSE/AARVI'),\n",
              " ('Aavas Financiers Ltd ', 'NSE/AAVAS'),\n",
              " ('Aban Offshore Ltd. ', 'NSE/ABAN'),\n",
              " ('ABB India Ltd ', 'NSE/ABB'),\n",
              " ('Abbott India Ltd. ', 'NSE/ABBOTINDIA'),\n",
              " ('Aditya Birla Capital Ltd. ', 'NSE/ABCAPITAL'),\n",
              " ('Aditya Birla Chemicals ', 'NSE/ABCIL'),\n",
              " ('Aditya Birla Fashion & Retail Ltd. ', 'NSE/ABFRL_RE'),\n",
              " ('ABG Shipyard Ltd. ', 'NSE/ABGSHIP'),\n",
              " ('Abhishek Corporation Ltd ', 'NSE/ABHISHEK'),\n",
              " ('Aditya Birla Nuvo Ltd. ', 'NSE/ABIRLANUVO'),\n",
              " ('ABM International Ltd. ', 'NSE/ABMINTLTD'),\n",
              " ('Aditya Birla Sun Life AMC Ltd. ', 'NSE/ABSLNN50ET'),\n",
              " ('ACC Ltd ', 'NSE/ACC'),\n",
              " ('Accelya Solutions India Ltd. ', 'NSE/ACCELYA')]"
            ]
          },
          "metadata": {
            "tags": []
          },
          "execution_count": 196
        }
      ]
    },
    {
      "cell_type": "code",
      "metadata": {
        "id": "dJI_73PnwuEL"
      },
      "source": [
        "start_date = '2018-01-04'\n",
        "end_date = '2019-01-04'"
      ],
      "execution_count": 197,
      "outputs": []
    },
    {
      "cell_type": "code",
      "metadata": {
        "id": "Qx12wI3GwuEO",
        "outputId": "c9ae8375-14d5-4470-8781-ce988d2d823a",
        "colab": {
          "base_uri": "https://localhost:8080/",
          "height": 55
        }
      },
      "source": [
        "companies_dict.values()"
      ],
      "execution_count": 198,
      "outputs": [
        {
          "output_type": "execute_result",
          "data": {
            "text/plain": [
              "dict_values(['NSE/20MICRONS', 'NSE/21STCENMGM', 'NSE/3IINFOTECH', 'NSE/3MINDIA', 'NSE/3PLAND', 'NSE/5PAISA', 'NSE/63MOONS', 'NSE/8KMILES', 'NSE/A2ZINFRA', 'NSE/AAKASH', 'NSE/AARTIDRUGS', 'NSE/AARTIIND', 'NSE/AARTISURF', 'NSE/AARVEEDEN', 'NSE/AARVI', 'NSE/AAVAS', 'NSE/ABAN', 'NSE/ABB', 'NSE/ABBOTINDIA', 'NSE/ABCAPITAL', 'NSE/ABCIL', 'NSE/ABFRL_RE', 'NSE/ABGSHIP', 'NSE/ABHISHEK', 'NSE/ABIRLANUVO', 'NSE/ABMINTLTD', 'NSE/ABSLNN50ET', 'NSE/ACC', 'NSE/ACCELYA'])"
            ]
          },
          "metadata": {
            "tags": []
          },
          "execution_count": 198
        }
      ]
    },
    {
      "cell_type": "code",
      "metadata": {
        "id": "D9m1Qzjk2iKy"
      },
      "source": [
        "mydata = qd.get(list(companies_dict.values()))"
      ],
      "execution_count": 199,
      "outputs": []
    },
    {
      "cell_type": "code",
      "metadata": {
        "id": "VcHtGdRE4Sns"
      },
      "source": [
        "panel_data = mydata[mydata.index>=start_date]"
      ],
      "execution_count": 200,
      "outputs": []
    },
    {
      "cell_type": "code",
      "metadata": {
        "id": "N6xkaspmwuET",
        "outputId": "52c25966-e203-4e7f-a6dd-9b5740f889b7",
        "colab": {
          "base_uri": "https://localhost:8080/",
          "height": 106
        }
      },
      "source": [
        "panel_data.dropna(axis=1,inplace=True)"
      ],
      "execution_count": 201,
      "outputs": [
        {
          "output_type": "stream",
          "text": [
            "/usr/local/lib/python3.6/dist-packages/ipykernel_launcher.py:1: SettingWithCopyWarning: \n",
            "A value is trying to be set on a copy of a slice from a DataFrame\n",
            "\n",
            "See the caveats in the documentation: https://pandas.pydata.org/pandas-docs/stable/user_guide/indexing.html#returning-a-view-versus-a-copy\n",
            "  \"\"\"Entry point for launching an IPython kernel.\n"
          ],
          "name": "stderr"
        }
      ]
    },
    {
      "cell_type": "code",
      "metadata": {
        "id": "eP6BXmoawuEV",
        "outputId": "422429b1-d70c-4370-f34b-7e3d1b4867b2",
        "colab": {
          "base_uri": "https://localhost:8080/",
          "height": 668
        }
      },
      "source": [
        "panel_data"
      ],
      "execution_count": 202,
      "outputs": [
        {
          "output_type": "execute_result",
          "data": {
            "text/html": [
              "<div>\n",
              "<style scoped>\n",
              "    .dataframe tbody tr th:only-of-type {\n",
              "        vertical-align: middle;\n",
              "    }\n",
              "\n",
              "    .dataframe tbody tr th {\n",
              "        vertical-align: top;\n",
              "    }\n",
              "\n",
              "    .dataframe thead th {\n",
              "        text-align: right;\n",
              "    }\n",
              "</style>\n",
              "<table border=\"1\" class=\"dataframe\">\n",
              "  <thead>\n",
              "    <tr style=\"text-align: right;\">\n",
              "      <th></th>\n",
              "      <th>NSE/20MICRONS - Open</th>\n",
              "      <th>NSE/20MICRONS - High</th>\n",
              "      <th>NSE/20MICRONS - Low</th>\n",
              "      <th>NSE/20MICRONS - Last</th>\n",
              "      <th>NSE/20MICRONS - Close</th>\n",
              "      <th>NSE/20MICRONS - Total Trade Quantity</th>\n",
              "      <th>NSE/20MICRONS - Turnover (Lacs)</th>\n",
              "      <th>NSE/3IINFOTECH - Open</th>\n",
              "      <th>NSE/3IINFOTECH - High</th>\n",
              "      <th>NSE/3IINFOTECH - Low</th>\n",
              "      <th>NSE/3IINFOTECH - Last</th>\n",
              "      <th>NSE/3IINFOTECH - Close</th>\n",
              "      <th>NSE/3IINFOTECH - Total Trade Quantity</th>\n",
              "      <th>NSE/3IINFOTECH - Turnover (Lacs)</th>\n",
              "      <th>NSE/3MINDIA - Open</th>\n",
              "      <th>NSE/3MINDIA - High</th>\n",
              "      <th>NSE/3MINDIA - Low</th>\n",
              "      <th>NSE/3MINDIA - Last</th>\n",
              "      <th>NSE/3MINDIA - Close</th>\n",
              "      <th>NSE/3MINDIA - Total Trade Quantity</th>\n",
              "      <th>NSE/3MINDIA - Turnover (Lacs)</th>\n",
              "      <th>NSE/5PAISA - Open</th>\n",
              "      <th>NSE/5PAISA - High</th>\n",
              "      <th>NSE/5PAISA - Low</th>\n",
              "      <th>NSE/5PAISA - Last</th>\n",
              "      <th>NSE/5PAISA - Close</th>\n",
              "      <th>NSE/5PAISA - Total Trade Quantity</th>\n",
              "      <th>NSE/5PAISA - Turnover (Lacs)</th>\n",
              "      <th>NSE/63MOONS - Open</th>\n",
              "      <th>NSE/63MOONS - High</th>\n",
              "      <th>NSE/63MOONS - Low</th>\n",
              "      <th>NSE/63MOONS - Last</th>\n",
              "      <th>NSE/63MOONS - Close</th>\n",
              "      <th>NSE/63MOONS - Total Trade Quantity</th>\n",
              "      <th>NSE/63MOONS - Turnover (Lacs)</th>\n",
              "      <th>NSE/8KMILES - Open</th>\n",
              "      <th>NSE/8KMILES - High</th>\n",
              "      <th>NSE/8KMILES - Low</th>\n",
              "      <th>NSE/8KMILES - Last</th>\n",
              "      <th>NSE/8KMILES - Close</th>\n",
              "      <th>...</th>\n",
              "      <th>NSE/ABB - Low</th>\n",
              "      <th>NSE/ABB - Last</th>\n",
              "      <th>NSE/ABB - Close</th>\n",
              "      <th>NSE/ABB - Total Trade Quantity</th>\n",
              "      <th>NSE/ABB - Turnover (Lacs)</th>\n",
              "      <th>NSE/ABBOTINDIA - Open</th>\n",
              "      <th>NSE/ABBOTINDIA - High</th>\n",
              "      <th>NSE/ABBOTINDIA - Low</th>\n",
              "      <th>NSE/ABBOTINDIA - Last</th>\n",
              "      <th>NSE/ABBOTINDIA - Close</th>\n",
              "      <th>NSE/ABBOTINDIA - Total Trade Quantity</th>\n",
              "      <th>NSE/ABBOTINDIA - Turnover (Lacs)</th>\n",
              "      <th>NSE/ABCAPITAL - Open</th>\n",
              "      <th>NSE/ABCAPITAL - High</th>\n",
              "      <th>NSE/ABCAPITAL - Low</th>\n",
              "      <th>NSE/ABCAPITAL - Last</th>\n",
              "      <th>NSE/ABCAPITAL - Close</th>\n",
              "      <th>NSE/ABCAPITAL - Total Trade Quantity</th>\n",
              "      <th>NSE/ABCAPITAL - Turnover (Lacs)</th>\n",
              "      <th>NSE/ABGSHIP - Open</th>\n",
              "      <th>NSE/ABGSHIP - High</th>\n",
              "      <th>NSE/ABGSHIP - Low</th>\n",
              "      <th>NSE/ABGSHIP - Last</th>\n",
              "      <th>NSE/ABGSHIP - Close</th>\n",
              "      <th>NSE/ABGSHIP - Total Trade Quantity</th>\n",
              "      <th>NSE/ABGSHIP - Turnover (Lacs)</th>\n",
              "      <th>NSE/ACC - Open</th>\n",
              "      <th>NSE/ACC - High</th>\n",
              "      <th>NSE/ACC - Low</th>\n",
              "      <th>NSE/ACC - Last</th>\n",
              "      <th>NSE/ACC - Close</th>\n",
              "      <th>NSE/ACC - Total Trade Quantity</th>\n",
              "      <th>NSE/ACC - Turnover (Lacs)</th>\n",
              "      <th>NSE/ACCELYA - Open</th>\n",
              "      <th>NSE/ACCELYA - High</th>\n",
              "      <th>NSE/ACCELYA - Low</th>\n",
              "      <th>NSE/ACCELYA - Last</th>\n",
              "      <th>NSE/ACCELYA - Close</th>\n",
              "      <th>NSE/ACCELYA - Total Trade Quantity</th>\n",
              "      <th>NSE/ACCELYA - Turnover (Lacs)</th>\n",
              "    </tr>\n",
              "    <tr>\n",
              "      <th>Date</th>\n",
              "      <th></th>\n",
              "      <th></th>\n",
              "      <th></th>\n",
              "      <th></th>\n",
              "      <th></th>\n",
              "      <th></th>\n",
              "      <th></th>\n",
              "      <th></th>\n",
              "      <th></th>\n",
              "      <th></th>\n",
              "      <th></th>\n",
              "      <th></th>\n",
              "      <th></th>\n",
              "      <th></th>\n",
              "      <th></th>\n",
              "      <th></th>\n",
              "      <th></th>\n",
              "      <th></th>\n",
              "      <th></th>\n",
              "      <th></th>\n",
              "      <th></th>\n",
              "      <th></th>\n",
              "      <th></th>\n",
              "      <th></th>\n",
              "      <th></th>\n",
              "      <th></th>\n",
              "      <th></th>\n",
              "      <th></th>\n",
              "      <th></th>\n",
              "      <th></th>\n",
              "      <th></th>\n",
              "      <th></th>\n",
              "      <th></th>\n",
              "      <th></th>\n",
              "      <th></th>\n",
              "      <th></th>\n",
              "      <th></th>\n",
              "      <th></th>\n",
              "      <th></th>\n",
              "      <th></th>\n",
              "      <th></th>\n",
              "      <th></th>\n",
              "      <th></th>\n",
              "      <th></th>\n",
              "      <th></th>\n",
              "      <th></th>\n",
              "      <th></th>\n",
              "      <th></th>\n",
              "      <th></th>\n",
              "      <th></th>\n",
              "      <th></th>\n",
              "      <th></th>\n",
              "      <th></th>\n",
              "      <th></th>\n",
              "      <th></th>\n",
              "      <th></th>\n",
              "      <th></th>\n",
              "      <th></th>\n",
              "      <th></th>\n",
              "      <th></th>\n",
              "      <th></th>\n",
              "      <th></th>\n",
              "      <th></th>\n",
              "      <th></th>\n",
              "      <th></th>\n",
              "      <th></th>\n",
              "      <th></th>\n",
              "      <th></th>\n",
              "      <th></th>\n",
              "      <th></th>\n",
              "      <th></th>\n",
              "      <th></th>\n",
              "      <th></th>\n",
              "      <th></th>\n",
              "      <th></th>\n",
              "      <th></th>\n",
              "      <th></th>\n",
              "      <th></th>\n",
              "      <th></th>\n",
              "      <th></th>\n",
              "      <th></th>\n",
              "    </tr>\n",
              "  </thead>\n",
              "  <tbody>\n",
              "    <tr>\n",
              "      <th>2018-01-04</th>\n",
              "      <td>59.45</td>\n",
              "      <td>63.20</td>\n",
              "      <td>58.60</td>\n",
              "      <td>62.75</td>\n",
              "      <td>62.60</td>\n",
              "      <td>812025.0</td>\n",
              "      <td>500.57</td>\n",
              "      <td>7.60</td>\n",
              "      <td>8.40</td>\n",
              "      <td>7.60</td>\n",
              "      <td>8.40</td>\n",
              "      <td>8.40</td>\n",
              "      <td>60821732.0</td>\n",
              "      <td>4900.84</td>\n",
              "      <td>19400.50</td>\n",
              "      <td>19750.00</td>\n",
              "      <td>19152.00</td>\n",
              "      <td>19500.00</td>\n",
              "      <td>19449.80</td>\n",
              "      <td>1597.0</td>\n",
              "      <td>311.97</td>\n",
              "      <td>332.10</td>\n",
              "      <td>348.65</td>\n",
              "      <td>331.50</td>\n",
              "      <td>339.20</td>\n",
              "      <td>337.70</td>\n",
              "      <td>15178.0</td>\n",
              "      <td>51.33</td>\n",
              "      <td>120.00</td>\n",
              "      <td>121.45</td>\n",
              "      <td>117.3</td>\n",
              "      <td>117.60</td>\n",
              "      <td>117.95</td>\n",
              "      <td>286030.0</td>\n",
              "      <td>340.80</td>\n",
              "      <td>885.00</td>\n",
              "      <td>891.30</td>\n",
              "      <td>855.00</td>\n",
              "      <td>866.00</td>\n",
              "      <td>860.00</td>\n",
              "      <td>...</td>\n",
              "      <td>1415.00</td>\n",
              "      <td>1428.80</td>\n",
              "      <td>1433.30</td>\n",
              "      <td>154339.0</td>\n",
              "      <td>2220.31</td>\n",
              "      <td>5489.0</td>\n",
              "      <td>5489.00</td>\n",
              "      <td>5420.00</td>\n",
              "      <td>5440.00</td>\n",
              "      <td>5430.85</td>\n",
              "      <td>887.0</td>\n",
              "      <td>48.28</td>\n",
              "      <td>185.00</td>\n",
              "      <td>185.55</td>\n",
              "      <td>183.50</td>\n",
              "      <td>184.20</td>\n",
              "      <td>184.00</td>\n",
              "      <td>2105382.0</td>\n",
              "      <td>3878.82</td>\n",
              "      <td>13.90</td>\n",
              "      <td>13.90</td>\n",
              "      <td>13.40</td>\n",
              "      <td>13.50</td>\n",
              "      <td>13.65</td>\n",
              "      <td>15258.0</td>\n",
              "      <td>2.09</td>\n",
              "      <td>1779.95</td>\n",
              "      <td>1808.00</td>\n",
              "      <td>1770.00</td>\n",
              "      <td>1794.50</td>\n",
              "      <td>1801.35</td>\n",
              "      <td>278240.0</td>\n",
              "      <td>4969.44</td>\n",
              "      <td>1455.55</td>\n",
              "      <td>1468.90</td>\n",
              "      <td>1439.00</td>\n",
              "      <td>1462.75</td>\n",
              "      <td>1452.10</td>\n",
              "      <td>6678.0</td>\n",
              "      <td>96.96</td>\n",
              "    </tr>\n",
              "    <tr>\n",
              "      <th>2018-01-05</th>\n",
              "      <td>64.80</td>\n",
              "      <td>67.00</td>\n",
              "      <td>63.00</td>\n",
              "      <td>63.25</td>\n",
              "      <td>63.60</td>\n",
              "      <td>1129498.0</td>\n",
              "      <td>736.47</td>\n",
              "      <td>8.70</td>\n",
              "      <td>8.80</td>\n",
              "      <td>8.30</td>\n",
              "      <td>8.80</td>\n",
              "      <td>8.80</td>\n",
              "      <td>24010030.0</td>\n",
              "      <td>2077.41</td>\n",
              "      <td>19440.00</td>\n",
              "      <td>19600.05</td>\n",
              "      <td>19255.35</td>\n",
              "      <td>19350.00</td>\n",
              "      <td>19367.50</td>\n",
              "      <td>867.0</td>\n",
              "      <td>168.55</td>\n",
              "      <td>345.95</td>\n",
              "      <td>352.00</td>\n",
              "      <td>327.00</td>\n",
              "      <td>332.00</td>\n",
              "      <td>330.70</td>\n",
              "      <td>20668.0</td>\n",
              "      <td>69.17</td>\n",
              "      <td>116.00</td>\n",
              "      <td>121.90</td>\n",
              "      <td>116.0</td>\n",
              "      <td>119.00</td>\n",
              "      <td>118.65</td>\n",
              "      <td>532162.0</td>\n",
              "      <td>637.78</td>\n",
              "      <td>866.00</td>\n",
              "      <td>892.00</td>\n",
              "      <td>860.05</td>\n",
              "      <td>861.75</td>\n",
              "      <td>863.05</td>\n",
              "      <td>...</td>\n",
              "      <td>1430.00</td>\n",
              "      <td>1436.95</td>\n",
              "      <td>1435.10</td>\n",
              "      <td>99155.0</td>\n",
              "      <td>1428.90</td>\n",
              "      <td>5450.0</td>\n",
              "      <td>5450.00</td>\n",
              "      <td>5353.50</td>\n",
              "      <td>5412.00</td>\n",
              "      <td>5383.15</td>\n",
              "      <td>2130.0</td>\n",
              "      <td>114.98</td>\n",
              "      <td>185.00</td>\n",
              "      <td>186.00</td>\n",
              "      <td>184.20</td>\n",
              "      <td>185.10</td>\n",
              "      <td>184.85</td>\n",
              "      <td>3143911.0</td>\n",
              "      <td>5820.74</td>\n",
              "      <td>13.50</td>\n",
              "      <td>13.90</td>\n",
              "      <td>13.05</td>\n",
              "      <td>13.80</td>\n",
              "      <td>13.60</td>\n",
              "      <td>20397.0</td>\n",
              "      <td>2.75</td>\n",
              "      <td>1801.10</td>\n",
              "      <td>1820.40</td>\n",
              "      <td>1795.60</td>\n",
              "      <td>1814.90</td>\n",
              "      <td>1809.95</td>\n",
              "      <td>312489.0</td>\n",
              "      <td>5650.51</td>\n",
              "      <td>1453.00</td>\n",
              "      <td>1473.85</td>\n",
              "      <td>1438.00</td>\n",
              "      <td>1470.00</td>\n",
              "      <td>1465.95</td>\n",
              "      <td>2512.0</td>\n",
              "      <td>36.58</td>\n",
              "    </tr>\n",
              "    <tr>\n",
              "      <th>2018-01-08</th>\n",
              "      <td>64.00</td>\n",
              "      <td>64.25</td>\n",
              "      <td>61.05</td>\n",
              "      <td>62.25</td>\n",
              "      <td>61.65</td>\n",
              "      <td>298210.0</td>\n",
              "      <td>185.80</td>\n",
              "      <td>8.90</td>\n",
              "      <td>9.15</td>\n",
              "      <td>8.55</td>\n",
              "      <td>8.70</td>\n",
              "      <td>8.75</td>\n",
              "      <td>19114665.0</td>\n",
              "      <td>1684.15</td>\n",
              "      <td>19461.00</td>\n",
              "      <td>19650.00</td>\n",
              "      <td>19100.00</td>\n",
              "      <td>19200.00</td>\n",
              "      <td>19194.05</td>\n",
              "      <td>2200.0</td>\n",
              "      <td>424.70</td>\n",
              "      <td>339.95</td>\n",
              "      <td>347.20</td>\n",
              "      <td>332.40</td>\n",
              "      <td>347.20</td>\n",
              "      <td>347.20</td>\n",
              "      <td>14044.0</td>\n",
              "      <td>48.36</td>\n",
              "      <td>120.30</td>\n",
              "      <td>122.90</td>\n",
              "      <td>118.0</td>\n",
              "      <td>119.35</td>\n",
              "      <td>119.60</td>\n",
              "      <td>477727.0</td>\n",
              "      <td>575.64</td>\n",
              "      <td>874.00</td>\n",
              "      <td>878.00</td>\n",
              "      <td>856.10</td>\n",
              "      <td>860.85</td>\n",
              "      <td>859.15</td>\n",
              "      <td>...</td>\n",
              "      <td>1430.00</td>\n",
              "      <td>1435.00</td>\n",
              "      <td>1437.60</td>\n",
              "      <td>130805.0</td>\n",
              "      <td>1883.09</td>\n",
              "      <td>5400.0</td>\n",
              "      <td>5400.00</td>\n",
              "      <td>5334.05</td>\n",
              "      <td>5335.00</td>\n",
              "      <td>5340.55</td>\n",
              "      <td>6513.0</td>\n",
              "      <td>349.13</td>\n",
              "      <td>185.90</td>\n",
              "      <td>186.90</td>\n",
              "      <td>182.65</td>\n",
              "      <td>183.30</td>\n",
              "      <td>183.10</td>\n",
              "      <td>4784106.0</td>\n",
              "      <td>8800.60</td>\n",
              "      <td>13.80</td>\n",
              "      <td>13.90</td>\n",
              "      <td>13.30</td>\n",
              "      <td>13.50</td>\n",
              "      <td>13.60</td>\n",
              "      <td>17792.0</td>\n",
              "      <td>2.45</td>\n",
              "      <td>1816.00</td>\n",
              "      <td>1827.95</td>\n",
              "      <td>1800.00</td>\n",
              "      <td>1827.00</td>\n",
              "      <td>1825.00</td>\n",
              "      <td>189168.0</td>\n",
              "      <td>3442.39</td>\n",
              "      <td>1465.00</td>\n",
              "      <td>1472.00</td>\n",
              "      <td>1447.60</td>\n",
              "      <td>1447.60</td>\n",
              "      <td>1451.20</td>\n",
              "      <td>1931.0</td>\n",
              "      <td>28.13</td>\n",
              "    </tr>\n",
              "    <tr>\n",
              "      <th>2018-01-09</th>\n",
              "      <td>62.15</td>\n",
              "      <td>64.70</td>\n",
              "      <td>60.00</td>\n",
              "      <td>62.35</td>\n",
              "      <td>62.50</td>\n",
              "      <td>509757.0</td>\n",
              "      <td>320.11</td>\n",
              "      <td>8.85</td>\n",
              "      <td>8.85</td>\n",
              "      <td>8.35</td>\n",
              "      <td>8.35</td>\n",
              "      <td>8.35</td>\n",
              "      <td>13662718.0</td>\n",
              "      <td>1157.15</td>\n",
              "      <td>19300.00</td>\n",
              "      <td>19300.05</td>\n",
              "      <td>18874.60</td>\n",
              "      <td>18899.00</td>\n",
              "      <td>18967.95</td>\n",
              "      <td>1203.0</td>\n",
              "      <td>229.35</td>\n",
              "      <td>364.55</td>\n",
              "      <td>364.55</td>\n",
              "      <td>352.00</td>\n",
              "      <td>364.55</td>\n",
              "      <td>364.55</td>\n",
              "      <td>45529.0</td>\n",
              "      <td>165.17</td>\n",
              "      <td>120.60</td>\n",
              "      <td>120.65</td>\n",
              "      <td>116.4</td>\n",
              "      <td>116.70</td>\n",
              "      <td>116.90</td>\n",
              "      <td>255445.0</td>\n",
              "      <td>302.32</td>\n",
              "      <td>865.00</td>\n",
              "      <td>882.00</td>\n",
              "      <td>841.60</td>\n",
              "      <td>849.00</td>\n",
              "      <td>847.10</td>\n",
              "      <td>...</td>\n",
              "      <td>1412.20</td>\n",
              "      <td>1416.50</td>\n",
              "      <td>1419.30</td>\n",
              "      <td>86725.0</td>\n",
              "      <td>1244.20</td>\n",
              "      <td>5340.0</td>\n",
              "      <td>5352.70</td>\n",
              "      <td>5285.00</td>\n",
              "      <td>5290.00</td>\n",
              "      <td>5296.80</td>\n",
              "      <td>2497.0</td>\n",
              "      <td>132.68</td>\n",
              "      <td>184.50</td>\n",
              "      <td>187.60</td>\n",
              "      <td>183.40</td>\n",
              "      <td>183.75</td>\n",
              "      <td>183.75</td>\n",
              "      <td>4664375.0</td>\n",
              "      <td>8640.78</td>\n",
              "      <td>13.30</td>\n",
              "      <td>13.75</td>\n",
              "      <td>13.30</td>\n",
              "      <td>13.30</td>\n",
              "      <td>13.30</td>\n",
              "      <td>13904.0</td>\n",
              "      <td>1.87</td>\n",
              "      <td>1823.00</td>\n",
              "      <td>1835.00</td>\n",
              "      <td>1793.90</td>\n",
              "      <td>1811.50</td>\n",
              "      <td>1812.05</td>\n",
              "      <td>290610.0</td>\n",
              "      <td>5275.56</td>\n",
              "      <td>1451.00</td>\n",
              "      <td>1468.95</td>\n",
              "      <td>1441.00</td>\n",
              "      <td>1450.00</td>\n",
              "      <td>1448.00</td>\n",
              "      <td>2118.0</td>\n",
              "      <td>30.79</td>\n",
              "    </tr>\n",
              "    <tr>\n",
              "      <th>2018-01-10</th>\n",
              "      <td>62.60</td>\n",
              "      <td>63.30</td>\n",
              "      <td>60.25</td>\n",
              "      <td>60.65</td>\n",
              "      <td>60.95</td>\n",
              "      <td>183357.0</td>\n",
              "      <td>112.90</td>\n",
              "      <td>8.40</td>\n",
              "      <td>8.45</td>\n",
              "      <td>7.95</td>\n",
              "      <td>8.25</td>\n",
              "      <td>8.35</td>\n",
              "      <td>22347473.0</td>\n",
              "      <td>1816.64</td>\n",
              "      <td>18967.95</td>\n",
              "      <td>19089.95</td>\n",
              "      <td>18300.40</td>\n",
              "      <td>18500.00</td>\n",
              "      <td>18468.55</td>\n",
              "      <td>2542.0</td>\n",
              "      <td>473.69</td>\n",
              "      <td>372.40</td>\n",
              "      <td>372.40</td>\n",
              "      <td>352.00</td>\n",
              "      <td>352.50</td>\n",
              "      <td>356.10</td>\n",
              "      <td>42475.0</td>\n",
              "      <td>153.55</td>\n",
              "      <td>118.40</td>\n",
              "      <td>118.55</td>\n",
              "      <td>115.3</td>\n",
              "      <td>115.80</td>\n",
              "      <td>115.75</td>\n",
              "      <td>211675.0</td>\n",
              "      <td>246.64</td>\n",
              "      <td>850.00</td>\n",
              "      <td>858.05</td>\n",
              "      <td>842.00</td>\n",
              "      <td>844.00</td>\n",
              "      <td>846.25</td>\n",
              "      <td>...</td>\n",
              "      <td>1398.55</td>\n",
              "      <td>1412.55</td>\n",
              "      <td>1415.40</td>\n",
              "      <td>67304.0</td>\n",
              "      <td>949.25</td>\n",
              "      <td>5325.0</td>\n",
              "      <td>5334.00</td>\n",
              "      <td>5247.80</td>\n",
              "      <td>5247.80</td>\n",
              "      <td>5263.35</td>\n",
              "      <td>3585.0</td>\n",
              "      <td>189.46</td>\n",
              "      <td>184.40</td>\n",
              "      <td>185.05</td>\n",
              "      <td>183.05</td>\n",
              "      <td>183.30</td>\n",
              "      <td>183.20</td>\n",
              "      <td>2099917.0</td>\n",
              "      <td>3863.27</td>\n",
              "      <td>13.00</td>\n",
              "      <td>13.90</td>\n",
              "      <td>12.65</td>\n",
              "      <td>13.40</td>\n",
              "      <td>13.40</td>\n",
              "      <td>37712.0</td>\n",
              "      <td>4.94</td>\n",
              "      <td>1812.05</td>\n",
              "      <td>1823.00</td>\n",
              "      <td>1801.40</td>\n",
              "      <td>1812.15</td>\n",
              "      <td>1816.55</td>\n",
              "      <td>175749.0</td>\n",
              "      <td>3183.12</td>\n",
              "      <td>1441.95</td>\n",
              "      <td>1461.00</td>\n",
              "      <td>1435.00</td>\n",
              "      <td>1450.00</td>\n",
              "      <td>1450.90</td>\n",
              "      <td>2707.0</td>\n",
              "      <td>39.23</td>\n",
              "    </tr>\n",
              "    <tr>\n",
              "      <th>...</th>\n",
              "      <td>...</td>\n",
              "      <td>...</td>\n",
              "      <td>...</td>\n",
              "      <td>...</td>\n",
              "      <td>...</td>\n",
              "      <td>...</td>\n",
              "      <td>...</td>\n",
              "      <td>...</td>\n",
              "      <td>...</td>\n",
              "      <td>...</td>\n",
              "      <td>...</td>\n",
              "      <td>...</td>\n",
              "      <td>...</td>\n",
              "      <td>...</td>\n",
              "      <td>...</td>\n",
              "      <td>...</td>\n",
              "      <td>...</td>\n",
              "      <td>...</td>\n",
              "      <td>...</td>\n",
              "      <td>...</td>\n",
              "      <td>...</td>\n",
              "      <td>...</td>\n",
              "      <td>...</td>\n",
              "      <td>...</td>\n",
              "      <td>...</td>\n",
              "      <td>...</td>\n",
              "      <td>...</td>\n",
              "      <td>...</td>\n",
              "      <td>...</td>\n",
              "      <td>...</td>\n",
              "      <td>...</td>\n",
              "      <td>...</td>\n",
              "      <td>...</td>\n",
              "      <td>...</td>\n",
              "      <td>...</td>\n",
              "      <td>...</td>\n",
              "      <td>...</td>\n",
              "      <td>...</td>\n",
              "      <td>...</td>\n",
              "      <td>...</td>\n",
              "      <td>...</td>\n",
              "      <td>...</td>\n",
              "      <td>...</td>\n",
              "      <td>...</td>\n",
              "      <td>...</td>\n",
              "      <td>...</td>\n",
              "      <td>...</td>\n",
              "      <td>...</td>\n",
              "      <td>...</td>\n",
              "      <td>...</td>\n",
              "      <td>...</td>\n",
              "      <td>...</td>\n",
              "      <td>...</td>\n",
              "      <td>...</td>\n",
              "      <td>...</td>\n",
              "      <td>...</td>\n",
              "      <td>...</td>\n",
              "      <td>...</td>\n",
              "      <td>...</td>\n",
              "      <td>...</td>\n",
              "      <td>...</td>\n",
              "      <td>...</td>\n",
              "      <td>...</td>\n",
              "      <td>...</td>\n",
              "      <td>...</td>\n",
              "      <td>...</td>\n",
              "      <td>...</td>\n",
              "      <td>...</td>\n",
              "      <td>...</td>\n",
              "      <td>...</td>\n",
              "      <td>...</td>\n",
              "      <td>...</td>\n",
              "      <td>...</td>\n",
              "      <td>...</td>\n",
              "      <td>...</td>\n",
              "      <td>...</td>\n",
              "      <td>...</td>\n",
              "      <td>...</td>\n",
              "      <td>...</td>\n",
              "      <td>...</td>\n",
              "      <td>...</td>\n",
              "    </tr>\n",
              "    <tr>\n",
              "      <th>2018-12-31</th>\n",
              "      <td>42.20</td>\n",
              "      <td>42.75</td>\n",
              "      <td>41.50</td>\n",
              "      <td>42.75</td>\n",
              "      <td>42.20</td>\n",
              "      <td>28399.0</td>\n",
              "      <td>11.94</td>\n",
              "      <td>3.65</td>\n",
              "      <td>3.70</td>\n",
              "      <td>3.60</td>\n",
              "      <td>3.65</td>\n",
              "      <td>3.60</td>\n",
              "      <td>777434.0</td>\n",
              "      <td>28.17</td>\n",
              "      <td>21298.10</td>\n",
              "      <td>21298.10</td>\n",
              "      <td>20750.00</td>\n",
              "      <td>20805.00</td>\n",
              "      <td>20824.40</td>\n",
              "      <td>1088.0</td>\n",
              "      <td>227.51</td>\n",
              "      <td>239.00</td>\n",
              "      <td>245.65</td>\n",
              "      <td>239.00</td>\n",
              "      <td>245.65</td>\n",
              "      <td>245.65</td>\n",
              "      <td>5035.0</td>\n",
              "      <td>12.28</td>\n",
              "      <td>101.40</td>\n",
              "      <td>101.40</td>\n",
              "      <td>98.3</td>\n",
              "      <td>98.50</td>\n",
              "      <td>98.80</td>\n",
              "      <td>226778.0</td>\n",
              "      <td>225.90</td>\n",
              "      <td>144.85</td>\n",
              "      <td>148.30</td>\n",
              "      <td>140.00</td>\n",
              "      <td>140.20</td>\n",
              "      <td>140.95</td>\n",
              "      <td>...</td>\n",
              "      <td>1305.90</td>\n",
              "      <td>1330.00</td>\n",
              "      <td>1336.75</td>\n",
              "      <td>104257.0</td>\n",
              "      <td>1380.96</td>\n",
              "      <td>7540.0</td>\n",
              "      <td>7580.15</td>\n",
              "      <td>7472.55</td>\n",
              "      <td>7564.95</td>\n",
              "      <td>7516.65</td>\n",
              "      <td>2140.0</td>\n",
              "      <td>160.68</td>\n",
              "      <td>100.30</td>\n",
              "      <td>101.05</td>\n",
              "      <td>98.80</td>\n",
              "      <td>99.95</td>\n",
              "      <td>100.00</td>\n",
              "      <td>1884090.0</td>\n",
              "      <td>1882.06</td>\n",
              "      <td>2.00</td>\n",
              "      <td>2.10</td>\n",
              "      <td>1.90</td>\n",
              "      <td>2.10</td>\n",
              "      <td>2.10</td>\n",
              "      <td>57811.0</td>\n",
              "      <td>1.16</td>\n",
              "      <td>1486.00</td>\n",
              "      <td>1511.90</td>\n",
              "      <td>1470.85</td>\n",
              "      <td>1508.00</td>\n",
              "      <td>1508.10</td>\n",
              "      <td>791436.0</td>\n",
              "      <td>11856.79</td>\n",
              "      <td>947.70</td>\n",
              "      <td>953.65</td>\n",
              "      <td>945.25</td>\n",
              "      <td>950.00</td>\n",
              "      <td>949.95</td>\n",
              "      <td>3711.0</td>\n",
              "      <td>35.20</td>\n",
              "    </tr>\n",
              "    <tr>\n",
              "      <th>2019-01-01</th>\n",
              "      <td>42.05</td>\n",
              "      <td>44.75</td>\n",
              "      <td>41.70</td>\n",
              "      <td>44.65</td>\n",
              "      <td>44.25</td>\n",
              "      <td>77060.0</td>\n",
              "      <td>34.01</td>\n",
              "      <td>3.65</td>\n",
              "      <td>3.65</td>\n",
              "      <td>3.60</td>\n",
              "      <td>3.65</td>\n",
              "      <td>3.65</td>\n",
              "      <td>461520.0</td>\n",
              "      <td>16.76</td>\n",
              "      <td>20854.95</td>\n",
              "      <td>20870.00</td>\n",
              "      <td>20625.00</td>\n",
              "      <td>20675.00</td>\n",
              "      <td>20666.35</td>\n",
              "      <td>517.0</td>\n",
              "      <td>107.28</td>\n",
              "      <td>257.90</td>\n",
              "      <td>257.90</td>\n",
              "      <td>247.60</td>\n",
              "      <td>257.90</td>\n",
              "      <td>257.90</td>\n",
              "      <td>3711.0</td>\n",
              "      <td>9.57</td>\n",
              "      <td>98.95</td>\n",
              "      <td>101.90</td>\n",
              "      <td>98.6</td>\n",
              "      <td>99.15</td>\n",
              "      <td>99.60</td>\n",
              "      <td>259452.0</td>\n",
              "      <td>259.43</td>\n",
              "      <td>141.20</td>\n",
              "      <td>146.45</td>\n",
              "      <td>136.05</td>\n",
              "      <td>142.25</td>\n",
              "      <td>142.30</td>\n",
              "      <td>...</td>\n",
              "      <td>1312.20</td>\n",
              "      <td>1320.00</td>\n",
              "      <td>1319.20</td>\n",
              "      <td>66089.0</td>\n",
              "      <td>875.50</td>\n",
              "      <td>7550.0</td>\n",
              "      <td>7598.00</td>\n",
              "      <td>7455.15</td>\n",
              "      <td>7598.00</td>\n",
              "      <td>7580.05</td>\n",
              "      <td>968.0</td>\n",
              "      <td>73.11</td>\n",
              "      <td>100.60</td>\n",
              "      <td>100.80</td>\n",
              "      <td>99.40</td>\n",
              "      <td>100.20</td>\n",
              "      <td>100.10</td>\n",
              "      <td>968494.0</td>\n",
              "      <td>969.43</td>\n",
              "      <td>2.00</td>\n",
              "      <td>2.10</td>\n",
              "      <td>2.00</td>\n",
              "      <td>2.10</td>\n",
              "      <td>2.05</td>\n",
              "      <td>22830.0</td>\n",
              "      <td>0.47</td>\n",
              "      <td>1516.90</td>\n",
              "      <td>1516.90</td>\n",
              "      <td>1475.00</td>\n",
              "      <td>1487.00</td>\n",
              "      <td>1488.80</td>\n",
              "      <td>840791.0</td>\n",
              "      <td>12522.76</td>\n",
              "      <td>943.80</td>\n",
              "      <td>956.00</td>\n",
              "      <td>943.80</td>\n",
              "      <td>949.95</td>\n",
              "      <td>950.00</td>\n",
              "      <td>817.0</td>\n",
              "      <td>7.76</td>\n",
              "    </tr>\n",
              "    <tr>\n",
              "      <th>2019-01-02</th>\n",
              "      <td>45.50</td>\n",
              "      <td>45.95</td>\n",
              "      <td>43.80</td>\n",
              "      <td>44.45</td>\n",
              "      <td>44.05</td>\n",
              "      <td>164131.0</td>\n",
              "      <td>74.15</td>\n",
              "      <td>3.65</td>\n",
              "      <td>3.70</td>\n",
              "      <td>3.60</td>\n",
              "      <td>3.70</td>\n",
              "      <td>3.65</td>\n",
              "      <td>1774440.0</td>\n",
              "      <td>64.83</td>\n",
              "      <td>20666.35</td>\n",
              "      <td>20666.35</td>\n",
              "      <td>19952.45</td>\n",
              "      <td>19980.00</td>\n",
              "      <td>19985.75</td>\n",
              "      <td>8642.0</td>\n",
              "      <td>1730.52</td>\n",
              "      <td>270.75</td>\n",
              "      <td>270.75</td>\n",
              "      <td>260.60</td>\n",
              "      <td>270.75</td>\n",
              "      <td>270.75</td>\n",
              "      <td>20081.0</td>\n",
              "      <td>54.06</td>\n",
              "      <td>98.90</td>\n",
              "      <td>100.40</td>\n",
              "      <td>96.6</td>\n",
              "      <td>96.65</td>\n",
              "      <td>97.20</td>\n",
              "      <td>183950.0</td>\n",
              "      <td>180.54</td>\n",
              "      <td>141.80</td>\n",
              "      <td>143.00</td>\n",
              "      <td>138.25</td>\n",
              "      <td>138.60</td>\n",
              "      <td>138.80</td>\n",
              "      <td>...</td>\n",
              "      <td>1311.30</td>\n",
              "      <td>1315.90</td>\n",
              "      <td>1319.25</td>\n",
              "      <td>56713.0</td>\n",
              "      <td>749.56</td>\n",
              "      <td>7580.0</td>\n",
              "      <td>7580.00</td>\n",
              "      <td>7506.00</td>\n",
              "      <td>7517.00</td>\n",
              "      <td>7527.05</td>\n",
              "      <td>1013.0</td>\n",
              "      <td>76.43</td>\n",
              "      <td>99.80</td>\n",
              "      <td>101.45</td>\n",
              "      <td>99.00</td>\n",
              "      <td>99.05</td>\n",
              "      <td>99.25</td>\n",
              "      <td>1728162.0</td>\n",
              "      <td>1732.99</td>\n",
              "      <td>2.00</td>\n",
              "      <td>2.10</td>\n",
              "      <td>1.95</td>\n",
              "      <td>2.05</td>\n",
              "      <td>2.05</td>\n",
              "      <td>91114.0</td>\n",
              "      <td>1.79</td>\n",
              "      <td>1487.85</td>\n",
              "      <td>1501.95</td>\n",
              "      <td>1477.55</td>\n",
              "      <td>1478.20</td>\n",
              "      <td>1483.95</td>\n",
              "      <td>669181.0</td>\n",
              "      <td>9972.26</td>\n",
              "      <td>945.05</td>\n",
              "      <td>951.95</td>\n",
              "      <td>941.00</td>\n",
              "      <td>951.95</td>\n",
              "      <td>949.40</td>\n",
              "      <td>1067.0</td>\n",
              "      <td>10.12</td>\n",
              "    </tr>\n",
              "    <tr>\n",
              "      <th>2019-01-03</th>\n",
              "      <td>44.05</td>\n",
              "      <td>44.10</td>\n",
              "      <td>43.10</td>\n",
              "      <td>43.40</td>\n",
              "      <td>43.45</td>\n",
              "      <td>15741.0</td>\n",
              "      <td>6.84</td>\n",
              "      <td>3.70</td>\n",
              "      <td>3.70</td>\n",
              "      <td>3.60</td>\n",
              "      <td>3.60</td>\n",
              "      <td>3.60</td>\n",
              "      <td>681736.0</td>\n",
              "      <td>24.80</td>\n",
              "      <td>20160.00</td>\n",
              "      <td>20269.95</td>\n",
              "      <td>19801.60</td>\n",
              "      <td>19950.00</td>\n",
              "      <td>19990.25</td>\n",
              "      <td>2402.0</td>\n",
              "      <td>480.04</td>\n",
              "      <td>280.00</td>\n",
              "      <td>284.25</td>\n",
              "      <td>273.75</td>\n",
              "      <td>284.25</td>\n",
              "      <td>284.25</td>\n",
              "      <td>15749.0</td>\n",
              "      <td>44.53</td>\n",
              "      <td>97.40</td>\n",
              "      <td>98.60</td>\n",
              "      <td>95.6</td>\n",
              "      <td>96.30</td>\n",
              "      <td>96.45</td>\n",
              "      <td>186566.0</td>\n",
              "      <td>181.13</td>\n",
              "      <td>138.00</td>\n",
              "      <td>139.90</td>\n",
              "      <td>132.80</td>\n",
              "      <td>133.00</td>\n",
              "      <td>133.90</td>\n",
              "      <td>...</td>\n",
              "      <td>1302.20</td>\n",
              "      <td>1308.90</td>\n",
              "      <td>1308.95</td>\n",
              "      <td>51343.0</td>\n",
              "      <td>678.60</td>\n",
              "      <td>7520.3</td>\n",
              "      <td>7574.00</td>\n",
              "      <td>7430.00</td>\n",
              "      <td>7470.00</td>\n",
              "      <td>7471.95</td>\n",
              "      <td>1739.0</td>\n",
              "      <td>130.23</td>\n",
              "      <td>99.45</td>\n",
              "      <td>101.00</td>\n",
              "      <td>97.30</td>\n",
              "      <td>98.20</td>\n",
              "      <td>98.25</td>\n",
              "      <td>5029127.0</td>\n",
              "      <td>4986.55</td>\n",
              "      <td>2.05</td>\n",
              "      <td>2.05</td>\n",
              "      <td>1.95</td>\n",
              "      <td>2.05</td>\n",
              "      <td>1.95</td>\n",
              "      <td>41447.0</td>\n",
              "      <td>0.83</td>\n",
              "      <td>1483.95</td>\n",
              "      <td>1492.70</td>\n",
              "      <td>1445.40</td>\n",
              "      <td>1446.00</td>\n",
              "      <td>1452.25</td>\n",
              "      <td>451970.0</td>\n",
              "      <td>6647.02</td>\n",
              "      <td>951.05</td>\n",
              "      <td>951.90</td>\n",
              "      <td>945.00</td>\n",
              "      <td>950.00</td>\n",
              "      <td>948.25</td>\n",
              "      <td>698.0</td>\n",
              "      <td>6.62</td>\n",
              "    </tr>\n",
              "    <tr>\n",
              "      <th>2019-01-04</th>\n",
              "      <td>43.50</td>\n",
              "      <td>43.90</td>\n",
              "      <td>42.15</td>\n",
              "      <td>42.30</td>\n",
              "      <td>42.25</td>\n",
              "      <td>31692.0</td>\n",
              "      <td>13.46</td>\n",
              "      <td>3.60</td>\n",
              "      <td>3.75</td>\n",
              "      <td>3.55</td>\n",
              "      <td>3.60</td>\n",
              "      <td>3.65</td>\n",
              "      <td>2748572.0</td>\n",
              "      <td>100.10</td>\n",
              "      <td>20011.40</td>\n",
              "      <td>20540.00</td>\n",
              "      <td>19997.00</td>\n",
              "      <td>20380.35</td>\n",
              "      <td>20357.40</td>\n",
              "      <td>3891.0</td>\n",
              "      <td>788.41</td>\n",
              "      <td>298.00</td>\n",
              "      <td>298.45</td>\n",
              "      <td>295.50</td>\n",
              "      <td>298.45</td>\n",
              "      <td>298.45</td>\n",
              "      <td>9675.0</td>\n",
              "      <td>28.87</td>\n",
              "      <td>96.45</td>\n",
              "      <td>97.55</td>\n",
              "      <td>95.0</td>\n",
              "      <td>95.25</td>\n",
              "      <td>95.25</td>\n",
              "      <td>132255.0</td>\n",
              "      <td>126.84</td>\n",
              "      <td>134.35</td>\n",
              "      <td>134.35</td>\n",
              "      <td>129.00</td>\n",
              "      <td>131.30</td>\n",
              "      <td>131.25</td>\n",
              "      <td>...</td>\n",
              "      <td>1295.60</td>\n",
              "      <td>1302.00</td>\n",
              "      <td>1303.65</td>\n",
              "      <td>53249.0</td>\n",
              "      <td>694.77</td>\n",
              "      <td>7510.0</td>\n",
              "      <td>7546.65</td>\n",
              "      <td>7485.10</td>\n",
              "      <td>7500.00</td>\n",
              "      <td>7504.50</td>\n",
              "      <td>2325.0</td>\n",
              "      <td>174.55</td>\n",
              "      <td>98.50</td>\n",
              "      <td>98.85</td>\n",
              "      <td>97.20</td>\n",
              "      <td>98.10</td>\n",
              "      <td>98.00</td>\n",
              "      <td>1377605.0</td>\n",
              "      <td>1351.67</td>\n",
              "      <td>1.90</td>\n",
              "      <td>2.00</td>\n",
              "      <td>1.90</td>\n",
              "      <td>2.00</td>\n",
              "      <td>1.90</td>\n",
              "      <td>83572.0</td>\n",
              "      <td>1.60</td>\n",
              "      <td>1458.00</td>\n",
              "      <td>1473.00</td>\n",
              "      <td>1437.55</td>\n",
              "      <td>1469.00</td>\n",
              "      <td>1469.10</td>\n",
              "      <td>532734.0</td>\n",
              "      <td>7762.49</td>\n",
              "      <td>944.90</td>\n",
              "      <td>964.95</td>\n",
              "      <td>940.10</td>\n",
              "      <td>944.05</td>\n",
              "      <td>944.15</td>\n",
              "      <td>1436.0</td>\n",
              "      <td>13.62</td>\n",
              "    </tr>\n",
              "  </tbody>\n",
              "</table>\n",
              "<p>247 rows × 119 columns</p>\n",
              "</div>"
            ],
            "text/plain": [
              "            NSE/20MICRONS - Open  ...  NSE/ACCELYA - Turnover (Lacs)\n",
              "Date                              ...                               \n",
              "2018-01-04                 59.45  ...                          96.96\n",
              "2018-01-05                 64.80  ...                          36.58\n",
              "2018-01-08                 64.00  ...                          28.13\n",
              "2018-01-09                 62.15  ...                          30.79\n",
              "2018-01-10                 62.60  ...                          39.23\n",
              "...                          ...  ...                            ...\n",
              "2018-12-31                 42.20  ...                          35.20\n",
              "2019-01-01                 42.05  ...                           7.76\n",
              "2019-01-02                 45.50  ...                          10.12\n",
              "2019-01-03                 44.05  ...                           6.62\n",
              "2019-01-04                 43.50  ...                          13.62\n",
              "\n",
              "[247 rows x 119 columns]"
            ]
          },
          "metadata": {
            "tags": []
          },
          "execution_count": 202
        }
      ]
    },
    {
      "cell_type": "code",
      "metadata": {
        "id": "pIL7FCZewuEY",
        "outputId": "5e454db2-eeae-4dc8-a102-a0e9588a2337",
        "colab": {
          "base_uri": "https://localhost:8080/",
          "height": 212
        }
      },
      "source": [
        "panel_data.columns"
      ],
      "execution_count": 203,
      "outputs": [
        {
          "output_type": "execute_result",
          "data": {
            "text/plain": [
              "Index(['NSE/20MICRONS - Open', 'NSE/20MICRONS - High', 'NSE/20MICRONS - Low',\n",
              "       'NSE/20MICRONS - Last', 'NSE/20MICRONS - Close',\n",
              "       'NSE/20MICRONS - Total Trade Quantity',\n",
              "       'NSE/20MICRONS - Turnover (Lacs)', 'NSE/3IINFOTECH - Open',\n",
              "       'NSE/3IINFOTECH - High', 'NSE/3IINFOTECH - Low',\n",
              "       ...\n",
              "       'NSE/ACC - Close', 'NSE/ACC - Total Trade Quantity',\n",
              "       'NSE/ACC - Turnover (Lacs)', 'NSE/ACCELYA - Open', 'NSE/ACCELYA - High',\n",
              "       'NSE/ACCELYA - Low', 'NSE/ACCELYA - Last', 'NSE/ACCELYA - Close',\n",
              "       'NSE/ACCELYA - Total Trade Quantity', 'NSE/ACCELYA - Turnover (Lacs)'],\n",
              "      dtype='object', length=119)"
            ]
          },
          "metadata": {
            "tags": []
          },
          "execution_count": 203
        }
      ]
    },
    {
      "cell_type": "code",
      "metadata": {
        "id": "UYyXGznIMfXD",
        "outputId": "2c64faa8-fa95-4024-a513-9d717be1fd90",
        "colab": {
          "base_uri": "https://localhost:8080/",
          "height": 319
        }
      },
      "source": [
        "companies = []\n",
        "for i in panel_data.columns:\n",
        "  if i.split('-')[0].split('/')[1] not in companies:    \n",
        "    companies.append(i.split('-')[0].split('/')[1])\n",
        "companies"
      ],
      "execution_count": 204,
      "outputs": [
        {
          "output_type": "execute_result",
          "data": {
            "text/plain": [
              "['20MICRONS ',\n",
              " '3IINFOTECH ',\n",
              " '3MINDIA ',\n",
              " '5PAISA ',\n",
              " '63MOONS ',\n",
              " '8KMILES ',\n",
              " 'A2ZINFRA ',\n",
              " 'AARTIDRUGS ',\n",
              " 'AARTIIND ',\n",
              " 'AARVEEDEN ',\n",
              " 'ABAN ',\n",
              " 'ABB ',\n",
              " 'ABBOTINDIA ',\n",
              " 'ABCAPITAL ',\n",
              " 'ABGSHIP ',\n",
              " 'ACC ',\n",
              " 'ACCELYA ']"
            ]
          },
          "metadata": {
            "tags": []
          },
          "execution_count": 204
        }
      ]
    },
    {
      "cell_type": "code",
      "metadata": {
        "id": "7US_AxclAj8a"
      },
      "source": [
        "stock_open = pd.DataFrame()\n",
        "stock_close = pd.DataFrame()"
      ],
      "execution_count": 205,
      "outputs": []
    },
    {
      "cell_type": "code",
      "metadata": {
        "id": "OhlT1WjlBOoU"
      },
      "source": [
        "i = 'NSE/20MICRONS - Open'"
      ],
      "execution_count": 206,
      "outputs": []
    },
    {
      "cell_type": "code",
      "metadata": {
        "id": "TKC4OTR7BkQ6",
        "outputId": "84ea209f-533a-4481-d85f-94952c866be0",
        "colab": {
          "base_uri": "https://localhost:8080/",
          "height": 36
        }
      },
      "source": [
        "i.split('-')[0].split('/')[1]"
      ],
      "execution_count": 207,
      "outputs": [
        {
          "output_type": "execute_result",
          "data": {
            "application/vnd.google.colaboratory.intrinsic+json": {
              "type": "string"
            },
            "text/plain": [
              "'20MICRONS '"
            ]
          },
          "metadata": {
            "tags": []
          },
          "execution_count": 207
        }
      ]
    },
    {
      "cell_type": "code",
      "metadata": {
        "id": "uQKqjUitAvF4",
        "outputId": "909ed268-4ca8-47db-becb-c8061d7ba37d",
        "colab": {
          "base_uri": "https://localhost:8080/",
          "height": 248
        }
      },
      "source": [
        "panel_data.loc[:,i]"
      ],
      "execution_count": 208,
      "outputs": [
        {
          "output_type": "execute_result",
          "data": {
            "text/plain": [
              "Date\n",
              "2018-01-04    59.45\n",
              "2018-01-05    64.80\n",
              "2018-01-08    64.00\n",
              "2018-01-09    62.15\n",
              "2018-01-10    62.60\n",
              "              ...  \n",
              "2018-12-31    42.20\n",
              "2019-01-01    42.05\n",
              "2019-01-02    45.50\n",
              "2019-01-03    44.05\n",
              "2019-01-04    43.50\n",
              "Name: NSE/20MICRONS - Open, Length: 247, dtype: float64"
            ]
          },
          "metadata": {
            "tags": []
          },
          "execution_count": 208
        }
      ]
    },
    {
      "cell_type": "code",
      "metadata": {
        "id": "hR6EdAwCAGXd"
      },
      "source": [
        "for i in panel_data.columns:\n",
        "  if i.split('-')[1]==' Open':\n",
        "    stock_open.loc[:,i.split('-')[0].split('/')[1]] = panel_data.loc[:,i]"
      ],
      "execution_count": 209,
      "outputs": []
    },
    {
      "cell_type": "code",
      "metadata": {
        "id": "sl-G6LNTwuEa",
        "outputId": "00b79130-ec45-4380-804e-7cf4de8f07e5",
        "colab": {
          "base_uri": "https://localhost:8080/",
          "height": 399
        }
      },
      "source": [
        "stock_open"
      ],
      "execution_count": 210,
      "outputs": [
        {
          "output_type": "execute_result",
          "data": {
            "text/html": [
              "<div>\n",
              "<style scoped>\n",
              "    .dataframe tbody tr th:only-of-type {\n",
              "        vertical-align: middle;\n",
              "    }\n",
              "\n",
              "    .dataframe tbody tr th {\n",
              "        vertical-align: top;\n",
              "    }\n",
              "\n",
              "    .dataframe thead th {\n",
              "        text-align: right;\n",
              "    }\n",
              "</style>\n",
              "<table border=\"1\" class=\"dataframe\">\n",
              "  <thead>\n",
              "    <tr style=\"text-align: right;\">\n",
              "      <th></th>\n",
              "      <th>20MICRONS</th>\n",
              "      <th>3IINFOTECH</th>\n",
              "      <th>3MINDIA</th>\n",
              "      <th>5PAISA</th>\n",
              "      <th>63MOONS</th>\n",
              "      <th>8KMILES</th>\n",
              "      <th>A2ZINFRA</th>\n",
              "      <th>AARTIDRUGS</th>\n",
              "      <th>AARTIIND</th>\n",
              "      <th>AARVEEDEN</th>\n",
              "      <th>ABAN</th>\n",
              "      <th>ABB</th>\n",
              "      <th>ABBOTINDIA</th>\n",
              "      <th>ABCAPITAL</th>\n",
              "      <th>ABGSHIP</th>\n",
              "      <th>ACC</th>\n",
              "      <th>ACCELYA</th>\n",
              "    </tr>\n",
              "  </thead>\n",
              "  <tbody>\n",
              "    <tr>\n",
              "      <th>2018-01-04</th>\n",
              "      <td>59.45</td>\n",
              "      <td>7.60</td>\n",
              "      <td>19400.50</td>\n",
              "      <td>332.10</td>\n",
              "      <td>120.00</td>\n",
              "      <td>885.00</td>\n",
              "      <td>47.25</td>\n",
              "      <td>716.00</td>\n",
              "      <td>1144.00</td>\n",
              "      <td>49.40</td>\n",
              "      <td>208.80</td>\n",
              "      <td>1420.0</td>\n",
              "      <td>5489.0</td>\n",
              "      <td>185.00</td>\n",
              "      <td>13.90</td>\n",
              "      <td>1779.95</td>\n",
              "      <td>1455.55</td>\n",
              "    </tr>\n",
              "    <tr>\n",
              "      <th>2018-01-05</th>\n",
              "      <td>64.80</td>\n",
              "      <td>8.70</td>\n",
              "      <td>19440.00</td>\n",
              "      <td>345.95</td>\n",
              "      <td>116.00</td>\n",
              "      <td>866.00</td>\n",
              "      <td>46.85</td>\n",
              "      <td>744.00</td>\n",
              "      <td>1150.00</td>\n",
              "      <td>57.05</td>\n",
              "      <td>210.00</td>\n",
              "      <td>1432.0</td>\n",
              "      <td>5450.0</td>\n",
              "      <td>185.00</td>\n",
              "      <td>13.50</td>\n",
              "      <td>1801.10</td>\n",
              "      <td>1453.00</td>\n",
              "    </tr>\n",
              "    <tr>\n",
              "      <th>2018-01-08</th>\n",
              "      <td>64.00</td>\n",
              "      <td>8.90</td>\n",
              "      <td>19461.00</td>\n",
              "      <td>339.95</td>\n",
              "      <td>120.30</td>\n",
              "      <td>874.00</td>\n",
              "      <td>46.00</td>\n",
              "      <td>745.50</td>\n",
              "      <td>1170.60</td>\n",
              "      <td>53.25</td>\n",
              "      <td>217.00</td>\n",
              "      <td>1444.0</td>\n",
              "      <td>5400.0</td>\n",
              "      <td>185.90</td>\n",
              "      <td>13.80</td>\n",
              "      <td>1816.00</td>\n",
              "      <td>1465.00</td>\n",
              "    </tr>\n",
              "    <tr>\n",
              "      <th>2018-01-09</th>\n",
              "      <td>62.15</td>\n",
              "      <td>8.85</td>\n",
              "      <td>19300.00</td>\n",
              "      <td>364.55</td>\n",
              "      <td>120.60</td>\n",
              "      <td>865.00</td>\n",
              "      <td>45.40</td>\n",
              "      <td>767.25</td>\n",
              "      <td>1142.50</td>\n",
              "      <td>53.35</td>\n",
              "      <td>221.25</td>\n",
              "      <td>1444.6</td>\n",
              "      <td>5340.0</td>\n",
              "      <td>184.50</td>\n",
              "      <td>13.30</td>\n",
              "      <td>1823.00</td>\n",
              "      <td>1451.00</td>\n",
              "    </tr>\n",
              "    <tr>\n",
              "      <th>2018-01-10</th>\n",
              "      <td>62.60</td>\n",
              "      <td>8.40</td>\n",
              "      <td>18967.95</td>\n",
              "      <td>372.40</td>\n",
              "      <td>118.40</td>\n",
              "      <td>850.00</td>\n",
              "      <td>43.75</td>\n",
              "      <td>777.70</td>\n",
              "      <td>1145.00</td>\n",
              "      <td>52.40</td>\n",
              "      <td>221.00</td>\n",
              "      <td>1420.2</td>\n",
              "      <td>5325.0</td>\n",
              "      <td>184.40</td>\n",
              "      <td>13.00</td>\n",
              "      <td>1812.05</td>\n",
              "      <td>1441.95</td>\n",
              "    </tr>\n",
              "    <tr>\n",
              "      <th>...</th>\n",
              "      <td>...</td>\n",
              "      <td>...</td>\n",
              "      <td>...</td>\n",
              "      <td>...</td>\n",
              "      <td>...</td>\n",
              "      <td>...</td>\n",
              "      <td>...</td>\n",
              "      <td>...</td>\n",
              "      <td>...</td>\n",
              "      <td>...</td>\n",
              "      <td>...</td>\n",
              "      <td>...</td>\n",
              "      <td>...</td>\n",
              "      <td>...</td>\n",
              "      <td>...</td>\n",
              "      <td>...</td>\n",
              "      <td>...</td>\n",
              "    </tr>\n",
              "    <tr>\n",
              "      <th>2018-12-31</th>\n",
              "      <td>42.20</td>\n",
              "      <td>3.65</td>\n",
              "      <td>21298.10</td>\n",
              "      <td>239.00</td>\n",
              "      <td>101.40</td>\n",
              "      <td>144.85</td>\n",
              "      <td>13.00</td>\n",
              "      <td>575.00</td>\n",
              "      <td>1442.00</td>\n",
              "      <td>25.15</td>\n",
              "      <td>75.05</td>\n",
              "      <td>1315.0</td>\n",
              "      <td>7540.0</td>\n",
              "      <td>100.30</td>\n",
              "      <td>2.00</td>\n",
              "      <td>1486.00</td>\n",
              "      <td>947.70</td>\n",
              "    </tr>\n",
              "    <tr>\n",
              "      <th>2019-01-01</th>\n",
              "      <td>42.05</td>\n",
              "      <td>3.65</td>\n",
              "      <td>20854.95</td>\n",
              "      <td>257.90</td>\n",
              "      <td>98.95</td>\n",
              "      <td>141.20</td>\n",
              "      <td>13.00</td>\n",
              "      <td>576.65</td>\n",
              "      <td>1450.00</td>\n",
              "      <td>25.65</td>\n",
              "      <td>75.00</td>\n",
              "      <td>1335.0</td>\n",
              "      <td>7550.0</td>\n",
              "      <td>100.60</td>\n",
              "      <td>2.00</td>\n",
              "      <td>1516.90</td>\n",
              "      <td>943.80</td>\n",
              "    </tr>\n",
              "    <tr>\n",
              "      <th>2019-01-02</th>\n",
              "      <td>45.50</td>\n",
              "      <td>3.65</td>\n",
              "      <td>20666.35</td>\n",
              "      <td>270.75</td>\n",
              "      <td>98.90</td>\n",
              "      <td>141.80</td>\n",
              "      <td>13.25</td>\n",
              "      <td>577.30</td>\n",
              "      <td>1453.95</td>\n",
              "      <td>25.80</td>\n",
              "      <td>74.00</td>\n",
              "      <td>1320.0</td>\n",
              "      <td>7580.0</td>\n",
              "      <td>99.80</td>\n",
              "      <td>2.00</td>\n",
              "      <td>1487.85</td>\n",
              "      <td>945.05</td>\n",
              "    </tr>\n",
              "    <tr>\n",
              "      <th>2019-01-03</th>\n",
              "      <td>44.05</td>\n",
              "      <td>3.70</td>\n",
              "      <td>20160.00</td>\n",
              "      <td>280.00</td>\n",
              "      <td>97.40</td>\n",
              "      <td>138.00</td>\n",
              "      <td>12.65</td>\n",
              "      <td>572.95</td>\n",
              "      <td>1444.10</td>\n",
              "      <td>26.55</td>\n",
              "      <td>74.50</td>\n",
              "      <td>1318.9</td>\n",
              "      <td>7520.3</td>\n",
              "      <td>99.45</td>\n",
              "      <td>2.05</td>\n",
              "      <td>1483.95</td>\n",
              "      <td>951.05</td>\n",
              "    </tr>\n",
              "    <tr>\n",
              "      <th>2019-01-04</th>\n",
              "      <td>43.50</td>\n",
              "      <td>3.60</td>\n",
              "      <td>20011.40</td>\n",
              "      <td>298.00</td>\n",
              "      <td>96.45</td>\n",
              "      <td>134.35</td>\n",
              "      <td>12.85</td>\n",
              "      <td>574.95</td>\n",
              "      <td>1432.00</td>\n",
              "      <td>27.60</td>\n",
              "      <td>73.15</td>\n",
              "      <td>1314.9</td>\n",
              "      <td>7510.0</td>\n",
              "      <td>98.50</td>\n",
              "      <td>1.90</td>\n",
              "      <td>1458.00</td>\n",
              "      <td>944.90</td>\n",
              "    </tr>\n",
              "  </tbody>\n",
              "</table>\n",
              "<p>247 rows × 17 columns</p>\n",
              "</div>"
            ],
            "text/plain": [
              "            20MICRONS   3IINFOTECH   3MINDIA   ...  ABGSHIP      ACC   ACCELYA \n",
              "2018-01-04       59.45         7.60  19400.50  ...     13.90  1779.95   1455.55\n",
              "2018-01-05       64.80         8.70  19440.00  ...     13.50  1801.10   1453.00\n",
              "2018-01-08       64.00         8.90  19461.00  ...     13.80  1816.00   1465.00\n",
              "2018-01-09       62.15         8.85  19300.00  ...     13.30  1823.00   1451.00\n",
              "2018-01-10       62.60         8.40  18967.95  ...     13.00  1812.05   1441.95\n",
              "...                ...          ...       ...  ...       ...      ...       ...\n",
              "2018-12-31       42.20         3.65  21298.10  ...      2.00  1486.00    947.70\n",
              "2019-01-01       42.05         3.65  20854.95  ...      2.00  1516.90    943.80\n",
              "2019-01-02       45.50         3.65  20666.35  ...      2.00  1487.85    945.05\n",
              "2019-01-03       44.05         3.70  20160.00  ...      2.05  1483.95    951.05\n",
              "2019-01-04       43.50         3.60  20011.40  ...      1.90  1458.00    944.90\n",
              "\n",
              "[247 rows x 17 columns]"
            ]
          },
          "metadata": {
            "tags": []
          },
          "execution_count": 210
        }
      ]
    },
    {
      "cell_type": "code",
      "metadata": {
        "id": "UZ7uhxOhB-zx"
      },
      "source": [
        "for i in panel_data.columns:\n",
        "  if i.split('-')[1]==' Close':\n",
        "    stock_close.loc[:,i.split('-')[0].split('/')[1]] = panel_data.loc[:,i]"
      ],
      "execution_count": 211,
      "outputs": []
    },
    {
      "cell_type": "code",
      "metadata": {
        "id": "37_sbtaqwuEc",
        "outputId": "137bb6f9-200b-43ca-b983-7feeebeb8f04",
        "colab": {
          "base_uri": "https://localhost:8080/",
          "height": 399
        }
      },
      "source": [
        "stock_close"
      ],
      "execution_count": 212,
      "outputs": [
        {
          "output_type": "execute_result",
          "data": {
            "text/html": [
              "<div>\n",
              "<style scoped>\n",
              "    .dataframe tbody tr th:only-of-type {\n",
              "        vertical-align: middle;\n",
              "    }\n",
              "\n",
              "    .dataframe tbody tr th {\n",
              "        vertical-align: top;\n",
              "    }\n",
              "\n",
              "    .dataframe thead th {\n",
              "        text-align: right;\n",
              "    }\n",
              "</style>\n",
              "<table border=\"1\" class=\"dataframe\">\n",
              "  <thead>\n",
              "    <tr style=\"text-align: right;\">\n",
              "      <th></th>\n",
              "      <th>20MICRONS</th>\n",
              "      <th>3IINFOTECH</th>\n",
              "      <th>3MINDIA</th>\n",
              "      <th>5PAISA</th>\n",
              "      <th>63MOONS</th>\n",
              "      <th>8KMILES</th>\n",
              "      <th>A2ZINFRA</th>\n",
              "      <th>AARTIDRUGS</th>\n",
              "      <th>AARTIIND</th>\n",
              "      <th>AARVEEDEN</th>\n",
              "      <th>ABAN</th>\n",
              "      <th>ABB</th>\n",
              "      <th>ABBOTINDIA</th>\n",
              "      <th>ABCAPITAL</th>\n",
              "      <th>ABGSHIP</th>\n",
              "      <th>ACC</th>\n",
              "      <th>ACCELYA</th>\n",
              "    </tr>\n",
              "  </thead>\n",
              "  <tbody>\n",
              "    <tr>\n",
              "      <th>2018-01-04</th>\n",
              "      <td>62.60</td>\n",
              "      <td>8.40</td>\n",
              "      <td>19449.80</td>\n",
              "      <td>337.70</td>\n",
              "      <td>117.95</td>\n",
              "      <td>860.00</td>\n",
              "      <td>46.55</td>\n",
              "      <td>740.40</td>\n",
              "      <td>1149.35</td>\n",
              "      <td>53.70</td>\n",
              "      <td>209.60</td>\n",
              "      <td>1433.30</td>\n",
              "      <td>5430.85</td>\n",
              "      <td>184.00</td>\n",
              "      <td>13.65</td>\n",
              "      <td>1801.35</td>\n",
              "      <td>1452.10</td>\n",
              "    </tr>\n",
              "    <tr>\n",
              "      <th>2018-01-05</th>\n",
              "      <td>63.60</td>\n",
              "      <td>8.80</td>\n",
              "      <td>19367.50</td>\n",
              "      <td>330.70</td>\n",
              "      <td>118.65</td>\n",
              "      <td>863.05</td>\n",
              "      <td>45.50</td>\n",
              "      <td>737.55</td>\n",
              "      <td>1170.60</td>\n",
              "      <td>53.25</td>\n",
              "      <td>215.55</td>\n",
              "      <td>1435.10</td>\n",
              "      <td>5383.15</td>\n",
              "      <td>184.85</td>\n",
              "      <td>13.60</td>\n",
              "      <td>1809.95</td>\n",
              "      <td>1465.95</td>\n",
              "    </tr>\n",
              "    <tr>\n",
              "      <th>2018-01-08</th>\n",
              "      <td>61.65</td>\n",
              "      <td>8.75</td>\n",
              "      <td>19194.05</td>\n",
              "      <td>347.20</td>\n",
              "      <td>119.60</td>\n",
              "      <td>859.15</td>\n",
              "      <td>45.20</td>\n",
              "      <td>732.15</td>\n",
              "      <td>1149.80</td>\n",
              "      <td>52.45</td>\n",
              "      <td>220.05</td>\n",
              "      <td>1437.60</td>\n",
              "      <td>5340.55</td>\n",
              "      <td>183.10</td>\n",
              "      <td>13.60</td>\n",
              "      <td>1825.00</td>\n",
              "      <td>1451.20</td>\n",
              "    </tr>\n",
              "    <tr>\n",
              "      <th>2018-01-09</th>\n",
              "      <td>62.50</td>\n",
              "      <td>8.35</td>\n",
              "      <td>18967.95</td>\n",
              "      <td>364.55</td>\n",
              "      <td>116.90</td>\n",
              "      <td>847.10</td>\n",
              "      <td>43.60</td>\n",
              "      <td>770.35</td>\n",
              "      <td>1140.40</td>\n",
              "      <td>51.30</td>\n",
              "      <td>218.30</td>\n",
              "      <td>1419.30</td>\n",
              "      <td>5296.80</td>\n",
              "      <td>183.75</td>\n",
              "      <td>13.30</td>\n",
              "      <td>1812.05</td>\n",
              "      <td>1448.00</td>\n",
              "    </tr>\n",
              "    <tr>\n",
              "      <th>2018-01-10</th>\n",
              "      <td>60.95</td>\n",
              "      <td>8.35</td>\n",
              "      <td>18468.55</td>\n",
              "      <td>356.10</td>\n",
              "      <td>115.75</td>\n",
              "      <td>846.25</td>\n",
              "      <td>43.65</td>\n",
              "      <td>763.95</td>\n",
              "      <td>1121.00</td>\n",
              "      <td>51.50</td>\n",
              "      <td>251.45</td>\n",
              "      <td>1415.40</td>\n",
              "      <td>5263.35</td>\n",
              "      <td>183.20</td>\n",
              "      <td>13.40</td>\n",
              "      <td>1816.55</td>\n",
              "      <td>1450.90</td>\n",
              "    </tr>\n",
              "    <tr>\n",
              "      <th>...</th>\n",
              "      <td>...</td>\n",
              "      <td>...</td>\n",
              "      <td>...</td>\n",
              "      <td>...</td>\n",
              "      <td>...</td>\n",
              "      <td>...</td>\n",
              "      <td>...</td>\n",
              "      <td>...</td>\n",
              "      <td>...</td>\n",
              "      <td>...</td>\n",
              "      <td>...</td>\n",
              "      <td>...</td>\n",
              "      <td>...</td>\n",
              "      <td>...</td>\n",
              "      <td>...</td>\n",
              "      <td>...</td>\n",
              "      <td>...</td>\n",
              "    </tr>\n",
              "    <tr>\n",
              "      <th>2018-12-31</th>\n",
              "      <td>42.20</td>\n",
              "      <td>3.60</td>\n",
              "      <td>20824.40</td>\n",
              "      <td>245.65</td>\n",
              "      <td>98.80</td>\n",
              "      <td>140.95</td>\n",
              "      <td>13.05</td>\n",
              "      <td>576.65</td>\n",
              "      <td>1443.70</td>\n",
              "      <td>25.20</td>\n",
              "      <td>74.75</td>\n",
              "      <td>1336.75</td>\n",
              "      <td>7516.65</td>\n",
              "      <td>100.00</td>\n",
              "      <td>2.10</td>\n",
              "      <td>1508.10</td>\n",
              "      <td>949.95</td>\n",
              "    </tr>\n",
              "    <tr>\n",
              "      <th>2019-01-01</th>\n",
              "      <td>44.25</td>\n",
              "      <td>3.65</td>\n",
              "      <td>20666.35</td>\n",
              "      <td>257.90</td>\n",
              "      <td>99.60</td>\n",
              "      <td>142.30</td>\n",
              "      <td>13.00</td>\n",
              "      <td>575.65</td>\n",
              "      <td>1448.60</td>\n",
              "      <td>26.05</td>\n",
              "      <td>74.50</td>\n",
              "      <td>1319.20</td>\n",
              "      <td>7580.05</td>\n",
              "      <td>100.10</td>\n",
              "      <td>2.05</td>\n",
              "      <td>1488.80</td>\n",
              "      <td>950.00</td>\n",
              "    </tr>\n",
              "    <tr>\n",
              "      <th>2019-01-02</th>\n",
              "      <td>44.05</td>\n",
              "      <td>3.65</td>\n",
              "      <td>19985.75</td>\n",
              "      <td>270.75</td>\n",
              "      <td>97.20</td>\n",
              "      <td>138.80</td>\n",
              "      <td>13.00</td>\n",
              "      <td>575.10</td>\n",
              "      <td>1450.70</td>\n",
              "      <td>27.05</td>\n",
              "      <td>74.10</td>\n",
              "      <td>1319.25</td>\n",
              "      <td>7527.05</td>\n",
              "      <td>99.25</td>\n",
              "      <td>2.05</td>\n",
              "      <td>1483.95</td>\n",
              "      <td>949.40</td>\n",
              "    </tr>\n",
              "    <tr>\n",
              "      <th>2019-01-03</th>\n",
              "      <td>43.45</td>\n",
              "      <td>3.60</td>\n",
              "      <td>19990.25</td>\n",
              "      <td>284.25</td>\n",
              "      <td>96.45</td>\n",
              "      <td>133.90</td>\n",
              "      <td>13.05</td>\n",
              "      <td>575.20</td>\n",
              "      <td>1429.15</td>\n",
              "      <td>28.00</td>\n",
              "      <td>73.50</td>\n",
              "      <td>1308.95</td>\n",
              "      <td>7471.95</td>\n",
              "      <td>98.25</td>\n",
              "      <td>1.95</td>\n",
              "      <td>1452.25</td>\n",
              "      <td>948.25</td>\n",
              "    </tr>\n",
              "    <tr>\n",
              "      <th>2019-01-04</th>\n",
              "      <td>42.25</td>\n",
              "      <td>3.65</td>\n",
              "      <td>20357.40</td>\n",
              "      <td>298.45</td>\n",
              "      <td>95.25</td>\n",
              "      <td>131.25</td>\n",
              "      <td>13.00</td>\n",
              "      <td>572.40</td>\n",
              "      <td>1463.35</td>\n",
              "      <td>28.05</td>\n",
              "      <td>73.25</td>\n",
              "      <td>1303.65</td>\n",
              "      <td>7504.50</td>\n",
              "      <td>98.00</td>\n",
              "      <td>1.90</td>\n",
              "      <td>1469.10</td>\n",
              "      <td>944.15</td>\n",
              "    </tr>\n",
              "  </tbody>\n",
              "</table>\n",
              "<p>247 rows × 17 columns</p>\n",
              "</div>"
            ],
            "text/plain": [
              "            20MICRONS   3IINFOTECH   3MINDIA   ...  ABGSHIP      ACC   ACCELYA \n",
              "2018-01-04       62.60         8.40  19449.80  ...     13.65  1801.35   1452.10\n",
              "2018-01-05       63.60         8.80  19367.50  ...     13.60  1809.95   1465.95\n",
              "2018-01-08       61.65         8.75  19194.05  ...     13.60  1825.00   1451.20\n",
              "2018-01-09       62.50         8.35  18967.95  ...     13.30  1812.05   1448.00\n",
              "2018-01-10       60.95         8.35  18468.55  ...     13.40  1816.55   1450.90\n",
              "...                ...          ...       ...  ...       ...      ...       ...\n",
              "2018-12-31       42.20         3.60  20824.40  ...      2.10  1508.10    949.95\n",
              "2019-01-01       44.25         3.65  20666.35  ...      2.05  1488.80    950.00\n",
              "2019-01-02       44.05         3.65  19985.75  ...      2.05  1483.95    949.40\n",
              "2019-01-03       43.45         3.60  19990.25  ...      1.95  1452.25    948.25\n",
              "2019-01-04       42.25         3.65  20357.40  ...      1.90  1469.10    944.15\n",
              "\n",
              "[247 rows x 17 columns]"
            ]
          },
          "metadata": {
            "tags": []
          },
          "execution_count": 212
        }
      ]
    },
    {
      "cell_type": "code",
      "metadata": {
        "id": "V8elAzhywuEj"
      },
      "source": [
        "stock_close = np.array(stock_close).T\n",
        "stock_open = np.array(stock_open).T"
      ],
      "execution_count": 213,
      "outputs": []
    },
    {
      "cell_type": "code",
      "metadata": {
        "id": "8XQ4wbsiwuEm",
        "outputId": "d4d40c31-13e9-40fb-d475-4cbb2962bdab",
        "colab": {
          "base_uri": "https://localhost:8080/",
          "height": 248
        }
      },
      "source": [
        "stock_close"
      ],
      "execution_count": 214,
      "outputs": [
        {
          "output_type": "execute_result",
          "data": {
            "text/plain": [
              "array([[6.260000e+01, 6.360000e+01, 6.165000e+01, ..., 4.405000e+01,\n",
              "        4.345000e+01, 4.225000e+01],\n",
              "       [8.400000e+00, 8.800000e+00, 8.750000e+00, ..., 3.650000e+00,\n",
              "        3.600000e+00, 3.650000e+00],\n",
              "       [1.944980e+04, 1.936750e+04, 1.919405e+04, ..., 1.998575e+04,\n",
              "        1.999025e+04, 2.035740e+04],\n",
              "       ...,\n",
              "       [1.365000e+01, 1.360000e+01, 1.360000e+01, ..., 2.050000e+00,\n",
              "        1.950000e+00, 1.900000e+00],\n",
              "       [1.801350e+03, 1.809950e+03, 1.825000e+03, ..., 1.483950e+03,\n",
              "        1.452250e+03, 1.469100e+03],\n",
              "       [1.452100e+03, 1.465950e+03, 1.451200e+03, ..., 9.494000e+02,\n",
              "        9.482500e+02, 9.441500e+02]])"
            ]
          },
          "metadata": {
            "tags": []
          },
          "execution_count": 214
        }
      ]
    },
    {
      "cell_type": "code",
      "metadata": {
        "id": "V1Pt7q6ZwuEp"
      },
      "source": [
        "row, col = stock_close.shape"
      ],
      "execution_count": 215,
      "outputs": []
    },
    {
      "cell_type": "code",
      "metadata": {
        "id": "gSYZYvqpwuEr",
        "outputId": "5bf6b181-30f2-4466-dc4a-02c41a9065c9",
        "colab": {
          "base_uri": "https://localhost:8080/",
          "height": 35
        }
      },
      "source": [
        "row"
      ],
      "execution_count": 216,
      "outputs": [
        {
          "output_type": "execute_result",
          "data": {
            "text/plain": [
              "17"
            ]
          },
          "metadata": {
            "tags": []
          },
          "execution_count": 216
        }
      ]
    },
    {
      "cell_type": "code",
      "metadata": {
        "id": "xgStJooNwuEt",
        "outputId": "a1f39287-9686-4811-d4f1-fa64873d9f71",
        "colab": {
          "base_uri": "https://localhost:8080/",
          "height": 35
        }
      },
      "source": [
        "col"
      ],
      "execution_count": 217,
      "outputs": [
        {
          "output_type": "execute_result",
          "data": {
            "text/plain": [
              "247"
            ]
          },
          "metadata": {
            "tags": []
          },
          "execution_count": 217
        }
      ]
    },
    {
      "cell_type": "code",
      "metadata": {
        "id": "Fz8IXBjnwuEw"
      },
      "source": [
        "movements = np.zeros([row, col])"
      ],
      "execution_count": 218,
      "outputs": []
    },
    {
      "cell_type": "code",
      "metadata": {
        "id": "KZdOcqZPwuEy",
        "outputId": "e0ad3f73-0db5-46ea-fee2-26141156e83d",
        "colab": {
          "base_uri": "https://localhost:8080/",
          "height": 141
        }
      },
      "source": [
        "movements                                                              "
      ],
      "execution_count": 219,
      "outputs": [
        {
          "output_type": "execute_result",
          "data": {
            "text/plain": [
              "array([[0., 0., 0., ..., 0., 0., 0.],\n",
              "       [0., 0., 0., ..., 0., 0., 0.],\n",
              "       [0., 0., 0., ..., 0., 0., 0.],\n",
              "       ...,\n",
              "       [0., 0., 0., ..., 0., 0., 0.],\n",
              "       [0., 0., 0., ..., 0., 0., 0.],\n",
              "       [0., 0., 0., ..., 0., 0., 0.]])"
            ]
          },
          "metadata": {
            "tags": []
          },
          "execution_count": 219
        }
      ]
    },
    {
      "cell_type": "code",
      "metadata": {
        "id": "um3WAIq8wuE0",
        "outputId": "2d8e3c04-e4be-4b95-af1f-ee9468b15b3e",
        "colab": {
          "base_uri": "https://localhost:8080/",
          "height": 301
        }
      },
      "source": [
        "for i in range(row):\n",
        "    movements[i,:] = np.subtract(stock_close[i,:], stock_open[i,:])\n",
        "\n",
        "for i in range(0, len(companies)-1):\n",
        "   print('Company: {}, Change: {}'.format(companies[i], sum(movements[i][:])))"
      ],
      "execution_count": 220,
      "outputs": [
        {
          "output_type": "stream",
          "text": [
            "Company: 20MICRONS , Change: -110.95000000000002\n",
            "Company: 3IINFOTECH , Change: -11.199999999999996\n",
            "Company: 3MINDIA , Change: -9278.550000000021\n",
            "Company: 5PAISA , Change: -311.95\n",
            "Company: 63MOONS , Change: -46.05000000000001\n",
            "Company: 8KMILES , Change: -1033.65\n",
            "Company: A2ZINFRA , Change: -42.15000000000002\n",
            "Company: AARTIDRUGS , Change: -545.7\n",
            "Company: AARTIIND , Change: -61.90000000000032\n",
            "Company: AARVEEDEN , Change: -93.24999999999994\n",
            "Company: ABAN , Change: -183.0499999999999\n",
            "Company: ABB , Change: -944.5999999999988\n",
            "Company: ABBOTINDIA , Change: -1161.100000000004\n",
            "Company: ABCAPITAL , Change: -131.80000000000007\n",
            "Company: ABGSHIP , Change: -12.999999999999991\n",
            "Company: ACC , Change: -593.650000000001\n"
          ],
          "name": "stdout"
        }
      ]
    },
    {
      "cell_type": "code",
      "metadata": {
        "id": "7-x7dZqYwuE3",
        "outputId": "7b782a11-13c7-4c15-909f-0fe9122b41cb",
        "colab": {
          "base_uri": "https://localhost:8080/",
          "height": 248
        }
      },
      "source": [
        "movements"
      ],
      "execution_count": 221,
      "outputs": [
        {
          "output_type": "execute_result",
          "data": {
            "text/plain": [
              "array([[ 3.1500e+00, -1.2000e+00, -2.3500e+00, ..., -1.4500e+00,\n",
              "        -6.0000e-01, -1.2500e+00],\n",
              "       [ 8.0000e-01,  1.0000e-01, -1.5000e-01, ...,  0.0000e+00,\n",
              "        -1.0000e-01,  5.0000e-02],\n",
              "       [ 4.9300e+01, -7.2500e+01, -2.6695e+02, ..., -6.8060e+02,\n",
              "        -1.6975e+02,  3.4600e+02],\n",
              "       ...,\n",
              "       [-2.5000e-01,  1.0000e-01, -2.0000e-01, ...,  5.0000e-02,\n",
              "        -1.0000e-01,  0.0000e+00],\n",
              "       [ 2.1400e+01,  8.8500e+00,  9.0000e+00, ..., -3.9000e+00,\n",
              "        -3.1700e+01,  1.1100e+01],\n",
              "       [-3.4500e+00,  1.2950e+01, -1.3800e+01, ...,  4.3500e+00,\n",
              "        -2.8000e+00, -7.5000e-01]])"
            ]
          },
          "metadata": {
            "tags": []
          },
          "execution_count": 221
        }
      ]
    },
    {
      "cell_type": "code",
      "metadata": {
        "id": "rogDb-AYwuE5"
      },
      "source": [
        "from sklearn.preprocessing import Normalizer\n",
        "from sklearn.pipeline import make_pipeline\n",
        "from sklearn.cluster import KMeans\n"
      ],
      "execution_count": 222,
      "outputs": []
    },
    {
      "cell_type": "code",
      "metadata": {
        "id": "x9buCkeiwuE7"
      },
      "source": [
        "normalizer = Normalizer()\n",
        "new = normalizer.fit_transform(movements)"
      ],
      "execution_count": 223,
      "outputs": []
    },
    {
      "cell_type": "code",
      "metadata": {
        "id": "CQZ-V7XhwuE-",
        "outputId": "ca818ae0-dc88-4be9-f070-8905dfd8bf71",
        "colab": {
          "base_uri": "https://localhost:8080/",
          "height": 159
        }
      },
      "source": [
        "normalizer = Normalizer()\n",
        "kmeans = KMeans(n_clusters=10, max_iter=1000)\n",
        "pipeline = make_pipeline(normalizer, kmeans)\n",
        "pipeline.fit(movements)"
      ],
      "execution_count": 224,
      "outputs": [
        {
          "output_type": "execute_result",
          "data": {
            "text/plain": [
              "Pipeline(memory=None,\n",
              "         steps=[('normalizer', Normalizer(copy=True, norm='l2')),\n",
              "                ('kmeans',\n",
              "                 KMeans(algorithm='auto', copy_x=True, init='k-means++',\n",
              "                        max_iter=1000, n_clusters=10, n_init=10, n_jobs=None,\n",
              "                        precompute_distances='auto', random_state=None,\n",
              "                        tol=0.0001, verbose=0))],\n",
              "         verbose=False)"
            ]
          },
          "metadata": {
            "tags": []
          },
          "execution_count": 224
        }
      ]
    },
    {
      "cell_type": "code",
      "metadata": {
        "id": "63HXX5BgwuFB",
        "outputId": "27bb4c8c-f641-4030-bf6f-dd7e97024229",
        "colab": {
          "base_uri": "https://localhost:8080/",
          "height": 337
        }
      },
      "source": [
        "labels = pipeline.predict(movements)\n",
        "df = pd.DataFrame({'labels': labels, 'companies': companies})\n",
        "print(df.sort_values('labels')) "
      ],
      "execution_count": 225,
      "outputs": [
        {
          "output_type": "stream",
          "text": [
            "    labels    companies\n",
            "3        0      5PAISA \n",
            "4        1     63MOONS \n",
            "6        1    A2ZINFRA \n",
            "7        1  AARTIDRUGS \n",
            "10       1        ABAN \n",
            "16       2     ACCELYA \n",
            "12       3  ABBOTINDIA \n",
            "11       4         ABB \n",
            "13       5   ABCAPITAL \n",
            "0        5   20MICRONS \n",
            "15       5         ACC \n",
            "1        5  3IINFOTECH \n",
            "14       6     ABGSHIP \n",
            "5        7     8KMILES \n",
            "9        7   AARVEEDEN \n",
            "2        8     3MINDIA \n",
            "8        9    AARTIIND \n"
          ],
          "name": "stdout"
        }
      ]
    },
    {
      "cell_type": "code",
      "metadata": {
        "id": "Cui3LokLwuFD"
      },
      "source": [
        "from sklearn.decomposition import PCA"
      ],
      "execution_count": 226,
      "outputs": []
    },
    {
      "cell_type": "code",
      "metadata": {
        "id": "NkQvzRpVwuFG"
      },
      "source": [
        "reduced_data = PCA(n_components=2).fit_transform(new)\n",
        "kmeans = KMeans(init='k-means++', n_clusters=10, n_init=10)\n",
        "kmeans.fit(reduced_data)\n",
        "labels = kmeans.predict(reduced_data)"
      ],
      "execution_count": 227,
      "outputs": []
    },
    {
      "cell_type": "code",
      "metadata": {
        "id": "2BFw-3NrwuFJ"
      },
      "source": [
        "df = pd.DataFrame({'labels': labels, 'companies': companies})"
      ],
      "execution_count": 228,
      "outputs": []
    },
    {
      "cell_type": "code",
      "metadata": {
        "id": "ZbdW00-DwuFK",
        "outputId": "f3a58e28-f9f2-45f3-f90a-af8a8dc246a2",
        "colab": {
          "base_uri": "https://localhost:8080/",
          "height": 337
        }
      },
      "source": [
        "print(df.sort_values('labels'))"
      ],
      "execution_count": 229,
      "outputs": [
        {
          "output_type": "stream",
          "text": [
            "    labels    companies\n",
            "6        0    A2ZINFRA \n",
            "10       0        ABAN \n",
            "2        1     3MINDIA \n",
            "14       2     ABGSHIP \n",
            "15       3         ACC \n",
            "11       3         ABB \n",
            "3        4      5PAISA \n",
            "9        4   AARVEEDEN \n",
            "0        5   20MICRONS \n",
            "4        5     63MOONS \n",
            "13       5   ABCAPITAL \n",
            "1        6  3IINFOTECH \n",
            "5        6     8KMILES \n",
            "7        6  AARTIDRUGS \n",
            "8        7    AARTIIND \n",
            "16       8     ACCELYA \n",
            "12       9  ABBOTINDIA \n"
          ],
          "name": "stdout"
        }
      ]
    },
    {
      "cell_type": "code",
      "metadata": {
        "id": "4SNBVbWVwuFM",
        "outputId": "44642699-cbcf-495a-f368-3f27d9d2559e",
        "colab": {
          "base_uri": "https://localhost:8080/",
          "height": 319
        }
      },
      "source": [
        "reduced_data"
      ],
      "execution_count": 230,
      "outputs": [
        {
          "output_type": "execute_result",
          "data": {
            "text/plain": [
              "array([[-1.01120638e-02, -5.41829554e-02],\n",
              "       [-2.26482883e-01,  3.08647599e-02],\n",
              "       [ 6.01906661e-01, -3.77989695e-02],\n",
              "       [-1.77103212e-01, -1.43931988e-01],\n",
              "       [-7.40426446e-04, -1.31367176e-01],\n",
              "       [-2.99891371e-01,  7.49768400e-02],\n",
              "       [-2.20148608e-01,  1.95346640e-01],\n",
              "       [-3.08815630e-01,  5.53134189e-03],\n",
              "       [-6.79108313e-02, -4.31255813e-01],\n",
              "       [-2.72509739e-01, -1.63172503e-01],\n",
              "       [-3.05057674e-01,  2.94584375e-01],\n",
              "       [ 1.94673681e-01, -1.85152024e-01],\n",
              "       [ 5.57343814e-01,  1.11782213e-01],\n",
              "       [-9.95696364e-02, -1.15565032e-01],\n",
              "       [ 1.40419537e-01,  8.76499186e-01],\n",
              "       [ 1.77455861e-01, -2.13067018e-01],\n",
              "       [ 3.16542522e-01, -1.14091876e-01]])"
            ]
          },
          "metadata": {
            "tags": []
          },
          "execution_count": 230
        }
      ]
    },
    {
      "cell_type": "code",
      "metadata": {
        "id": "k9_0B_ixQpZf",
        "outputId": "8fe00a8a-80c9-4289-d9d8-a0c267750b58",
        "colab": {
          "base_uri": "https://localhost:8080/",
          "height": 283
        }
      },
      "source": [
        "plt.scatter(reduced_data[:,0],reduced_data[:,1],)"
      ],
      "execution_count": 231,
      "outputs": [
        {
          "output_type": "execute_result",
          "data": {
            "text/plain": [
              "<matplotlib.collections.PathCollection at 0x7fd508563d68>"
            ]
          },
          "metadata": {
            "tags": []
          },
          "execution_count": 231
        },
        {
          "output_type": "display_data",
          "data": {
            "image/png": "[encoded data removed]",
            "text/plain": [
              "<Figure size 432x288 with 1 Axes>"
            ]
          },
          "metadata": {
            "tags": []
          }
        }
      ]
    },
    {
      "cell_type": "code",
      "metadata": {
        "id": "-o6slJVUQ2u6"
      },
      "source": [
        "import seaborn as sns"
      ],
      "execution_count": 232,
      "outputs": []
    },
    {
      "cell_type": "code",
      "metadata": {
        "id": "JsZ0ShkyRpSN",
        "outputId": "4e6318ce-88a2-42b3-fd08-7998536721cf",
        "colab": {
          "base_uri": "https://localhost:8080/",
          "height": 556
        }
      },
      "source": [
        "plt.figure(figsize=(8,8))\n",
        "sns.set_style('darkgrid')\n",
        "sns.scatterplot(reduced_data[:,0],reduced_data[:,1],hue=labels,palette='rainbow',sizes=20)\n",
        "plt.legend(title='Labels', bbox_to_anchor=(1.05, 1), loc='upper left')"
      ],
      "execution_count": 244,
      "outputs": [
        {
          "output_type": "stream",
          "text": [
            "/usr/local/lib/python3.6/dist-packages/seaborn/_decorators.py:43: FutureWarning: Pass the following variables as keyword args: x, y. From version 0.12, the only valid positional argument will be `data`, and passing other arguments without an explicit keyword will result in an error or misinterpretation.\n",
            "  FutureWarning\n"
          ],
          "name": "stderr"
        },
        {
          "output_type": "execute_result",
          "data": {
            "text/plain": [
              "<matplotlib.legend.Legend at 0x7fd5082d9358>"
            ]
          },
          "metadata": {
            "tags": []
          },
          "execution_count": 244
        },
        {
          "output_type": "display_data",
          "data": {
            "image/png": "[encoded data removed]",
            "text/plain": [
              "<Figure size 576x576 with 1 Axes>"
            ]
          },
          "metadata": {
            "tags": []
          }
        }
      ]
    },
    {
      "cell_type": "code",
      "metadata": {
        "id": "YDYkoDVLR3_d",
        "outputId": "4ece8b31-40d7-4d54-a779-3cd8d7eca482",
        "colab": {
          "base_uri": "https://localhost:8080/",
          "height": 623
        }
      },
      "source": [
        "h = .01     # point in the mesh [x_min, x_max]x[y_min, y_max].\n",
        "\n",
        "# Plot the decision boundary. For that, we will assign a color to each\n",
        "x_min, x_max = reduced_data[:, 0].min() - 1, reduced_data[:, 0].max() + 1\n",
        "y_min, y_max = reduced_data[:, 1].min() - 1, reduced_data[:, 1].max() + 1\n",
        "xx, yy = np.meshgrid(np.arange(x_min, x_max, h), np.arange(y_min, y_max, h))\n",
        "\n",
        "# Obtain labels for each point in mesh. Use last trained model.\n",
        "Z = kmeans.predict(np.c_[xx.ravel(), yy.ravel()])\n",
        "\n",
        "# Put the result into a color plot\n",
        "Z = Z.reshape(xx.shape)\n",
        "\n",
        "# Define Colormap\n",
        "cmap = plt.cm.Paired\n",
        "\n",
        "plt.figure(figsize=(10, 10))\n",
        "plt.clf()\n",
        "plt.imshow(Z, interpolation='nearest',\n",
        "           extent=(xx.min(), xx.max(), yy.min(), yy.max()),\n",
        "           cmap=cmap,\n",
        "           aspect='auto', origin='lower')\n",
        "\n",
        "plt.plot(reduced_data[:, 0], reduced_data[:, 1], 'k.', markersize=13)\n",
        "# Plot the centroids as a white X\n",
        "centroids = kmeans.cluster_centers_\n",
        "plt.scatter(centroids[:, 0], centroids[:, 1],\n",
        "            marker='x', s=169, linewidths=3,\n",
        "            color='w', zorder=10)\n",
        "plt.title('K-means clustering on Stock Market Movements (PCA-reduced data)\\n'\n",
        "          'Centroids are marked with white cross')\n",
        "plt.xlim(x_min, x_max)\n",
        "plt.ylim(y_min, y_max)\n",
        "plt.show()\n"
      ],
      "execution_count": 234,
      "outputs": [
        {
          "output_type": "display_data",
          "data": {
            "image/png": "[encoded data removed]",
            "text/plain": [
              "<Figure size 720x720 with 1 Axes>"
            ]
          },
          "metadata": {
            "tags": []
          }
        }
      ]
    },
    {
      "cell_type": "code",
      "metadata": {
        "id": "Xj1AuLyUU7ix"
      },
      "source": [
        ""
      ],
      "execution_count": 234,
      "outputs": []
    }
  ]
}
